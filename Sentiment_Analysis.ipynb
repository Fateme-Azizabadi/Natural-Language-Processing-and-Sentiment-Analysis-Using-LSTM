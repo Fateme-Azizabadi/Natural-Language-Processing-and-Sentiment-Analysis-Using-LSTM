{
  "nbformat": 4,
  "nbformat_minor": 0,
  "metadata": {
    "colab": {
      "name": "Sentiment_Analysis.ipynb",
      "provenance": [],
      "collapsed_sections": [
        "Owv6ycO5_9u_",
        "2I0XJw1u5U91",
        "vY8SsmrPr6Lo",
        "Lrg3_FsQSOiZ",
        "s17bO7kqSFsN"
      ]
    },
    "kernelspec": {
      "name": "python3",
      "display_name": "Python 3"
    },
    "language_info": {
      "name": "python"
    },
    "accelerator": "GPU"
  },
  "cells": [
    {
      "cell_type": "markdown",
      "source": [
        "**Introduction**\n",
        "* **Natural Language Processing (NLP):** The discipline of computer science, artificial intelligence and linguistics that is concerned with the creation of computational models that process and understand natural language. These include: making the computer understand the semantic grouping of words (e.g. cat and dog are semantically more similar than cat and spoon), text to speech, language translation and many more\n",
        "\n",
        "* **Sentiment Analysis:** It is the interpretation and classification of emotions (positive, negative and neutral) within text data using text analysis techniques. Sentiment analysis allows organizations to identify public sentiment towards certain words or topics."
      ],
      "metadata": {
        "id": "i6qcAwAeu28q"
      }
    },
    {
      "cell_type": "markdown",
      "source": [
        "# **Import Packages**"
      ],
      "metadata": {
        "id": "0ICsDbODuDWC"
      }
    },
    {
      "cell_type": "code",
      "source": [
        "import numpy as np\n",
        "import pandas as pd\n",
        "\n",
        "\n",
        "#Plotting \n",
        "import matplotlib.pyplot as plt \n",
        "\n",
        "#reading dataset\n",
        "import pandas as pd\n",
        "\n",
        "#nltk , data processing \n",
        "import nltk \n",
        "from nltk.corpus import stopwords\n",
        "from nltk.stem import SnowballStemmer\n",
        "\n",
        "#Removing, data processing\n",
        "import re\n",
        "\n",
        "# data processing\n",
        "from sklearn.model_selection import train_test_split\n",
        "from sklearn.preprocessing import LabelEncoder\n",
        "\n",
        "from keras.preprocessing.text import Tokenizer\n",
        "\n",
        "# Network \n",
        "from keras.preprocessing.sequence import pad_sequences\n",
        "from keras.utils import np_utils\n",
        "import tensorflow as tf\n",
        "\n",
        "from tensorflow.keras.layers import Conv1D, Bidirectional, LSTM, Dense, Input, Dropout\n",
        "from tensorflow.keras.layers import SpatialDropout1D\n",
        "from tensorflow.keras.callbacks import ModelCheckpoint\n",
        "\n",
        "#confusion matrix\n",
        "import seaborn as sns\n",
        "from sklearn.metrics import confusion_matrix,  classification_report\n"
      ],
      "metadata": {
        "id": "yfp11Y8juHuV"
      },
      "execution_count": null,
      "outputs": []
    },
    {
      "cell_type": "markdown",
      "source": [
        "# **Driver**"
      ],
      "metadata": {
        "id": "aADxsC2pqc7O"
      }
    },
    {
      "cell_type": "code",
      "source": [
        "from google.colab import drive\n",
        "drive.mount('/content/drive')"
      ],
      "metadata": {
        "colab": {
          "base_uri": "https://localhost:8080/"
        },
        "id": "-PcGTVOJqfo0",
        "outputId": "7c766079-8cf8-4cef-c3fc-ad88c490e786"
      },
      "execution_count": null,
      "outputs": [
        {
          "output_type": "stream",
          "name": "stdout",
          "text": [
            "Mounted at /content/drive\n"
          ]
        }
      ]
    },
    {
      "cell_type": "markdown",
      "source": [
        "# **Some Functions**"
      ],
      "metadata": {
        "id": "KjjLZ2a-ukqk"
      }
    },
    {
      "cell_type": "code",
      "source": [
        "def plothist(hist):\n",
        "    plt.plot(hist.history['accuracy'],color='b',linewidth=2.0)\n",
        "    plt.plot(hist.history['val_accuracy'],color='r',linewidth=2.0)\n",
        "\n",
        "    plt.title('model accuracy')\n",
        "    plt.ylabel('accuracy')\n",
        "    plt.xlabel('epoch')\n",
        "    plt.legend(['train', 'validation'], loc='upper left')\n",
        "    plt.grid()\n",
        "    plt.show()\n",
        "\n",
        "def plothist_loss(hist):\n",
        "    plt.plot(hist.history['loss'],color='b',linewidth=2.0)\n",
        "    plt.plot(hist.history['val_loss'],color='r',linewidth=2.0)\n",
        "  \n",
        "    plt.title('model loss')\n",
        "    plt.ylabel('loss')\n",
        "    plt.xlabel('epoch')\n",
        "    plt.legend(['train', 'validation'], loc='upper left')\n",
        "    plt.grid()\n",
        "    plt.show()"
      ],
      "metadata": {
        "id": "1Ep__s8hDk9z"
      },
      "execution_count": null,
      "outputs": []
    },
    {
      "cell_type": "markdown",
      "source": [
        "# **Import Dataset**"
      ],
      "metadata": {
        "id": "eEbtRMwauh3M"
      }
    },
    {
      "cell_type": "markdown",
      "source": [
        "The dataset being used is the sentiment140 dataset. It contains 1,600,000 tweets extracted using the Twitter API. The tweets have been annotated (0 = Negative, 4 = Positive) and they can be used to detect sentiment.\n",
        "\n",
        "[The training data isn't perfectly categorised as it has been created by tagging the text according to the emoji present. So, any model built using this dataset may have lower than expected accuracy, since the dataset isn't perfectly categorised.]\n",
        "\n",
        "It contains the following 6 fields:\n",
        "\n",
        "* sentiment: the polarity of the tweet (0 = negative, 4 = positive)\n",
        "* ids: The id of the tweet (2087)\n",
        "* date: the date of the tweet (Sat May 16 23:58:44 UTC 2009)\n",
        "* query: The query (lyx). If there is no query, then this value is NO_QUERY.\n",
        "* user: the user that tweeted (robotickilldozr)\n",
        "* text: the text of the tweet (Lyx is cool)\n",
        "We require only the sentiment and text fields, so we discard the rest.\n",
        "\n",
        "Furthermore, we're changing the sentiment field so that it has new values to reflect the sentiment. **(0 = Negative, 1=neutral 2 = Positive)**"
      ],
      "metadata": {
        "id": "r_2tqX9gumEM"
      }
    },
    {
      "cell_type": "code",
      "source": [
        "# Read in data into a dataframe\n",
        "cols = ['sentiment', 'id', 'date', 'query', 'user_name', 'text']\n",
        "df = pd.read_csv('/content/drive/MyDrive/Dataset/Sentiment Analysis/training.1600000.processed.noemoticon.csv', header=None, names=cols,encoding='latin-1')\n",
        "df.head(5)\n"
      ],
      "metadata": {
        "colab": {
          "base_uri": "https://localhost:8080/",
          "height": 424
        },
        "id": "amR38qr7yaTu",
        "outputId": "c5cb5da8-6c0a-4d64-89d2-d722e5833f61"
      },
      "execution_count": null,
      "outputs": [
        {
          "output_type": "execute_result",
          "data": {
            "text/html": [
              "\n",
              "  <div id=\"df-3e18671c-596c-431e-9b85-39af1d89000e\">\n",
              "    <div class=\"colab-df-container\">\n",
              "      <div>\n",
              "<style scoped>\n",
              "    .dataframe tbody tr th:only-of-type {\n",
              "        vertical-align: middle;\n",
              "    }\n",
              "\n",
              "    .dataframe tbody tr th {\n",
              "        vertical-align: top;\n",
              "    }\n",
              "\n",
              "    .dataframe thead th {\n",
              "        text-align: right;\n",
              "    }\n",
              "</style>\n",
              "<table border=\"1\" class=\"dataframe\">\n",
              "  <thead>\n",
              "    <tr style=\"text-align: right;\">\n",
              "      <th></th>\n",
              "      <th>sentiment</th>\n",
              "      <th>id</th>\n",
              "      <th>date</th>\n",
              "      <th>query</th>\n",
              "      <th>user_name</th>\n",
              "      <th>text</th>\n",
              "    </tr>\n",
              "  </thead>\n",
              "  <tbody>\n",
              "    <tr>\n",
              "      <th>0</th>\n",
              "      <td>0</td>\n",
              "      <td>1467810369</td>\n",
              "      <td>Mon Apr 06 22:19:45 PDT 2009</td>\n",
              "      <td>NO_QUERY</td>\n",
              "      <td>_TheSpecialOne_</td>\n",
              "      <td>@switchfoot http://twitpic.com/2y1zl - Awww, t...</td>\n",
              "    </tr>\n",
              "    <tr>\n",
              "      <th>1</th>\n",
              "      <td>0</td>\n",
              "      <td>1467810672</td>\n",
              "      <td>Mon Apr 06 22:19:49 PDT 2009</td>\n",
              "      <td>NO_QUERY</td>\n",
              "      <td>scotthamilton</td>\n",
              "      <td>is upset that he can't update his Facebook by ...</td>\n",
              "    </tr>\n",
              "    <tr>\n",
              "      <th>2</th>\n",
              "      <td>0</td>\n",
              "      <td>1467810917</td>\n",
              "      <td>Mon Apr 06 22:19:53 PDT 2009</td>\n",
              "      <td>NO_QUERY</td>\n",
              "      <td>mattycus</td>\n",
              "      <td>@Kenichan I dived many times for the ball. Man...</td>\n",
              "    </tr>\n",
              "    <tr>\n",
              "      <th>3</th>\n",
              "      <td>0</td>\n",
              "      <td>1467811184</td>\n",
              "      <td>Mon Apr 06 22:19:57 PDT 2009</td>\n",
              "      <td>NO_QUERY</td>\n",
              "      <td>ElleCTF</td>\n",
              "      <td>my whole body feels itchy and like its on fire</td>\n",
              "    </tr>\n",
              "    <tr>\n",
              "      <th>4</th>\n",
              "      <td>0</td>\n",
              "      <td>1467811193</td>\n",
              "      <td>Mon Apr 06 22:19:57 PDT 2009</td>\n",
              "      <td>NO_QUERY</td>\n",
              "      <td>Karoli</td>\n",
              "      <td>@nationwideclass no, it's not behaving at all....</td>\n",
              "    </tr>\n",
              "  </tbody>\n",
              "</table>\n",
              "</div>\n",
              "      <button class=\"colab-df-convert\" onclick=\"convertToInteractive('df-3e18671c-596c-431e-9b85-39af1d89000e')\"\n",
              "              title=\"Convert this dataframe to an interactive table.\"\n",
              "              style=\"display:none;\">\n",
              "        \n",
              "  <svg xmlns=\"http://www.w3.org/2000/svg\" height=\"24px\"viewBox=\"0 0 24 24\"\n",
              "       width=\"24px\">\n",
              "    <path d=\"M0 0h24v24H0V0z\" fill=\"none\"/>\n",
              "    <path d=\"M18.56 5.44l.94 2.06.94-2.06 2.06-.94-2.06-.94-.94-2.06-.94 2.06-2.06.94zm-11 1L8.5 8.5l.94-2.06 2.06-.94-2.06-.94L8.5 2.5l-.94 2.06-2.06.94zm10 10l.94 2.06.94-2.06 2.06-.94-2.06-.94-.94-2.06-.94 2.06-2.06.94z\"/><path d=\"M17.41 7.96l-1.37-1.37c-.4-.4-.92-.59-1.43-.59-.52 0-1.04.2-1.43.59L10.3 9.45l-7.72 7.72c-.78.78-.78 2.05 0 2.83L4 21.41c.39.39.9.59 1.41.59.51 0 1.02-.2 1.41-.59l7.78-7.78 2.81-2.81c.8-.78.8-2.07 0-2.86zM5.41 20L4 18.59l7.72-7.72 1.47 1.35L5.41 20z\"/>\n",
              "  </svg>\n",
              "      </button>\n",
              "      \n",
              "  <style>\n",
              "    .colab-df-container {\n",
              "      display:flex;\n",
              "      flex-wrap:wrap;\n",
              "      gap: 12px;\n",
              "    }\n",
              "\n",
              "    .colab-df-convert {\n",
              "      background-color: #E8F0FE;\n",
              "      border: none;\n",
              "      border-radius: 50%;\n",
              "      cursor: pointer;\n",
              "      display: none;\n",
              "      fill: #1967D2;\n",
              "      height: 32px;\n",
              "      padding: 0 0 0 0;\n",
              "      width: 32px;\n",
              "    }\n",
              "\n",
              "    .colab-df-convert:hover {\n",
              "      background-color: #E2EBFA;\n",
              "      box-shadow: 0px 1px 2px rgba(60, 64, 67, 0.3), 0px 1px 3px 1px rgba(60, 64, 67, 0.15);\n",
              "      fill: #174EA6;\n",
              "    }\n",
              "\n",
              "    [theme=dark] .colab-df-convert {\n",
              "      background-color: #3B4455;\n",
              "      fill: #D2E3FC;\n",
              "    }\n",
              "\n",
              "    [theme=dark] .colab-df-convert:hover {\n",
              "      background-color: #434B5C;\n",
              "      box-shadow: 0px 1px 3px 1px rgba(0, 0, 0, 0.15);\n",
              "      filter: drop-shadow(0px 1px 2px rgba(0, 0, 0, 0.3));\n",
              "      fill: #FFFFFF;\n",
              "    }\n",
              "  </style>\n",
              "\n",
              "      <script>\n",
              "        const buttonEl =\n",
              "          document.querySelector('#df-3e18671c-596c-431e-9b85-39af1d89000e button.colab-df-convert');\n",
              "        buttonEl.style.display =\n",
              "          google.colab.kernel.accessAllowed ? 'block' : 'none';\n",
              "\n",
              "        async function convertToInteractive(key) {\n",
              "          const element = document.querySelector('#df-3e18671c-596c-431e-9b85-39af1d89000e');\n",
              "          const dataTable =\n",
              "            await google.colab.kernel.invokeFunction('convertToInteractive',\n",
              "                                                     [key], {});\n",
              "          if (!dataTable) return;\n",
              "\n",
              "          const docLinkHtml = 'Like what you see? Visit the ' +\n",
              "            '<a target=\"_blank\" href=https://colab.research.google.com/notebooks/data_table.ipynb>data table notebook</a>'\n",
              "            + ' to learn more about interactive tables.';\n",
              "          element.innerHTML = '';\n",
              "          dataTable['output_type'] = 'display_data';\n",
              "          await google.colab.output.renderOutput(dataTable, element);\n",
              "          const docLink = document.createElement('div');\n",
              "          docLink.innerHTML = docLinkHtml;\n",
              "          element.appendChild(docLink);\n",
              "        }\n",
              "      </script>\n",
              "    </div>\n",
              "  </div>\n",
              "  "
            ],
            "text/plain": [
              "   sentiment  ...                                               text\n",
              "0          0  ...  @switchfoot http://twitpic.com/2y1zl - Awww, t...\n",
              "1          0  ...  is upset that he can't update his Facebook by ...\n",
              "2          0  ...  @Kenichan I dived many times for the ball. Man...\n",
              "3          0  ...    my whole body feels itchy and like its on fire \n",
              "4          0  ...  @nationwideclass no, it's not behaving at all....\n",
              "\n",
              "[5 rows x 6 columns]"
            ]
          },
          "metadata": {},
          "execution_count": 4
        }
      ]
    },
    {
      "cell_type": "markdown",
      "source": [
        "# **Preparing Dataset**"
      ],
      "metadata": {
        "id": "jW627Ykvx7qA"
      }
    },
    {
      "cell_type": "markdown",
      "source": [
        "**Preprocess Text**\n",
        "\n",
        "Text Preprocessing is traditionally an important step for Natural Language Processing (NLP) tasks. It transforms text into a more digestible form so that machine learning algorithms can perform better.\n",
        "\n",
        "The Preprocessing steps taken are:\n",
        "\n",
        "* Lower Casing: Each text is converted to lowercase.\n",
        "* Replacing or removing URLs: Links starting with \"http\" or \"https\" or \"www\" are replaced by \"URL\" or removing them.\n",
        "* Replacing Emojis: Replace emojis by using a pre-defined dictionary containing emojis along with their meaning. (eg: \":)\" to \"EMOJIsmile\")\n",
        "* Replacing Usernames: Replace @Usernames with word \"USER\". (eg: \"@Kaggle\" to \"USER\")\n",
        "* Removing Non-Alphabets: Replacing characters except Digits and Alphabets with a space.\n",
        "* Removing Consecutive letters: 3 or more consecutive letters are replaced by 2 letters. (eg: \"Heyyyy\" to \"Heyy\")\n",
        "* Removing Stopwords: Stopwords are the English words which does not add much meaning to a sentence. They can safely be ignored without sacrificing the meaning of the sentence. (eg: \"the\", \"he\", \"have\")\n"
      ],
      "metadata": {
        "id": "-0k7mdaJmzMr"
      }
    },
    {
      "cell_type": "code",
      "source": [
        "# Removing the unnecessary columns.\n",
        "df = df.drop(['id', 'date', 'query', 'user_name'], axis=1)\n",
        "df.head(5)"
      ],
      "metadata": {
        "colab": {
          "base_uri": "https://localhost:8080/",
          "height": 206
        },
        "id": "OEYlfKTUttlP",
        "outputId": "2c062f00-41fc-42ec-f59a-305e5f424dad"
      },
      "execution_count": null,
      "outputs": [
        {
          "output_type": "execute_result",
          "data": {
            "text/html": [
              "\n",
              "  <div id=\"df-984777a5-3c1a-40a7-942f-08e890ca6031\">\n",
              "    <div class=\"colab-df-container\">\n",
              "      <div>\n",
              "<style scoped>\n",
              "    .dataframe tbody tr th:only-of-type {\n",
              "        vertical-align: middle;\n",
              "    }\n",
              "\n",
              "    .dataframe tbody tr th {\n",
              "        vertical-align: top;\n",
              "    }\n",
              "\n",
              "    .dataframe thead th {\n",
              "        text-align: right;\n",
              "    }\n",
              "</style>\n",
              "<table border=\"1\" class=\"dataframe\">\n",
              "  <thead>\n",
              "    <tr style=\"text-align: right;\">\n",
              "      <th></th>\n",
              "      <th>sentiment</th>\n",
              "      <th>text</th>\n",
              "    </tr>\n",
              "  </thead>\n",
              "  <tbody>\n",
              "    <tr>\n",
              "      <th>0</th>\n",
              "      <td>0</td>\n",
              "      <td>@switchfoot http://twitpic.com/2y1zl - Awww, t...</td>\n",
              "    </tr>\n",
              "    <tr>\n",
              "      <th>1</th>\n",
              "      <td>0</td>\n",
              "      <td>is upset that he can't update his Facebook by ...</td>\n",
              "    </tr>\n",
              "    <tr>\n",
              "      <th>2</th>\n",
              "      <td>0</td>\n",
              "      <td>@Kenichan I dived many times for the ball. Man...</td>\n",
              "    </tr>\n",
              "    <tr>\n",
              "      <th>3</th>\n",
              "      <td>0</td>\n",
              "      <td>my whole body feels itchy and like its on fire</td>\n",
              "    </tr>\n",
              "    <tr>\n",
              "      <th>4</th>\n",
              "      <td>0</td>\n",
              "      <td>@nationwideclass no, it's not behaving at all....</td>\n",
              "    </tr>\n",
              "  </tbody>\n",
              "</table>\n",
              "</div>\n",
              "      <button class=\"colab-df-convert\" onclick=\"convertToInteractive('df-984777a5-3c1a-40a7-942f-08e890ca6031')\"\n",
              "              title=\"Convert this dataframe to an interactive table.\"\n",
              "              style=\"display:none;\">\n",
              "        \n",
              "  <svg xmlns=\"http://www.w3.org/2000/svg\" height=\"24px\"viewBox=\"0 0 24 24\"\n",
              "       width=\"24px\">\n",
              "    <path d=\"M0 0h24v24H0V0z\" fill=\"none\"/>\n",
              "    <path d=\"M18.56 5.44l.94 2.06.94-2.06 2.06-.94-2.06-.94-.94-2.06-.94 2.06-2.06.94zm-11 1L8.5 8.5l.94-2.06 2.06-.94-2.06-.94L8.5 2.5l-.94 2.06-2.06.94zm10 10l.94 2.06.94-2.06 2.06-.94-2.06-.94-.94-2.06-.94 2.06-2.06.94z\"/><path d=\"M17.41 7.96l-1.37-1.37c-.4-.4-.92-.59-1.43-.59-.52 0-1.04.2-1.43.59L10.3 9.45l-7.72 7.72c-.78.78-.78 2.05 0 2.83L4 21.41c.39.39.9.59 1.41.59.51 0 1.02-.2 1.41-.59l7.78-7.78 2.81-2.81c.8-.78.8-2.07 0-2.86zM5.41 20L4 18.59l7.72-7.72 1.47 1.35L5.41 20z\"/>\n",
              "  </svg>\n",
              "      </button>\n",
              "      \n",
              "  <style>\n",
              "    .colab-df-container {\n",
              "      display:flex;\n",
              "      flex-wrap:wrap;\n",
              "      gap: 12px;\n",
              "    }\n",
              "\n",
              "    .colab-df-convert {\n",
              "      background-color: #E8F0FE;\n",
              "      border: none;\n",
              "      border-radius: 50%;\n",
              "      cursor: pointer;\n",
              "      display: none;\n",
              "      fill: #1967D2;\n",
              "      height: 32px;\n",
              "      padding: 0 0 0 0;\n",
              "      width: 32px;\n",
              "    }\n",
              "\n",
              "    .colab-df-convert:hover {\n",
              "      background-color: #E2EBFA;\n",
              "      box-shadow: 0px 1px 2px rgba(60, 64, 67, 0.3), 0px 1px 3px 1px rgba(60, 64, 67, 0.15);\n",
              "      fill: #174EA6;\n",
              "    }\n",
              "\n",
              "    [theme=dark] .colab-df-convert {\n",
              "      background-color: #3B4455;\n",
              "      fill: #D2E3FC;\n",
              "    }\n",
              "\n",
              "    [theme=dark] .colab-df-convert:hover {\n",
              "      background-color: #434B5C;\n",
              "      box-shadow: 0px 1px 3px 1px rgba(0, 0, 0, 0.15);\n",
              "      filter: drop-shadow(0px 1px 2px rgba(0, 0, 0, 0.3));\n",
              "      fill: #FFFFFF;\n",
              "    }\n",
              "  </style>\n",
              "\n",
              "      <script>\n",
              "        const buttonEl =\n",
              "          document.querySelector('#df-984777a5-3c1a-40a7-942f-08e890ca6031 button.colab-df-convert');\n",
              "        buttonEl.style.display =\n",
              "          google.colab.kernel.accessAllowed ? 'block' : 'none';\n",
              "\n",
              "        async function convertToInteractive(key) {\n",
              "          const element = document.querySelector('#df-984777a5-3c1a-40a7-942f-08e890ca6031');\n",
              "          const dataTable =\n",
              "            await google.colab.kernel.invokeFunction('convertToInteractive',\n",
              "                                                     [key], {});\n",
              "          if (!dataTable) return;\n",
              "\n",
              "          const docLinkHtml = 'Like what you see? Visit the ' +\n",
              "            '<a target=\"_blank\" href=https://colab.research.google.com/notebooks/data_table.ipynb>data table notebook</a>'\n",
              "            + ' to learn more about interactive tables.';\n",
              "          element.innerHTML = '';\n",
              "          dataTable['output_type'] = 'display_data';\n",
              "          await google.colab.output.renderOutput(dataTable, element);\n",
              "          const docLink = document.createElement('div');\n",
              "          docLink.innerHTML = docLinkHtml;\n",
              "          element.appendChild(docLink);\n",
              "        }\n",
              "      </script>\n",
              "    </div>\n",
              "  </div>\n",
              "  "
            ],
            "text/plain": [
              "   sentiment                                               text\n",
              "0          0  @switchfoot http://twitpic.com/2y1zl - Awww, t...\n",
              "1          0  is upset that he can't update his Facebook by ...\n",
              "2          0  @Kenichan I dived many times for the ball. Man...\n",
              "3          0    my whole body feels itchy and like its on fire \n",
              "4          0  @nationwideclass no, it's not behaving at all...."
            ]
          },
          "metadata": {},
          "execution_count": 5
        }
      ]
    },
    {
      "cell_type": "code",
      "source": [
        "# Change labels [0:negative , 1:neutral , 2: positive]\n",
        "label_to_sentiment = {0:0, 2:1 , 4:2}\n",
        "def mapper(label):\n",
        "     return label_to_sentiment[label]\n",
        "df.sentiment = df.sentiment.apply(lambda x: mapper(x))"
      ],
      "metadata": {
        "id": "S-Kkl5FNxk9U"
      },
      "execution_count": null,
      "outputs": []
    },
    {
      "cell_type": "code",
      "source": [
        "# Import nltk package and download the stopwords\n",
        "nltk.download('stopwords')\n",
        "# We filter out the english language stopwrds\n",
        "stop_words = stopwords.words('english')\n",
        "print(stop_words)\n",
        "\n",
        "stemmer = SnowballStemmer('english')"
      ],
      "metadata": {
        "colab": {
          "base_uri": "https://localhost:8080/"
        },
        "id": "lP4O-DfwyF9D",
        "outputId": "03904a7a-1b39-4237-f260-bddd981eb0c8"
      },
      "execution_count": null,
      "outputs": [
        {
          "output_type": "stream",
          "name": "stdout",
          "text": [
            "[nltk_data] Downloading package stopwords to /root/nltk_data...\n",
            "[nltk_data]   Unzipping corpora/stopwords.zip.\n",
            "['i', 'me', 'my', 'myself', 'we', 'our', 'ours', 'ourselves', 'you', \"you're\", \"you've\", \"you'll\", \"you'd\", 'your', 'yours', 'yourself', 'yourselves', 'he', 'him', 'his', 'himself', 'she', \"she's\", 'her', 'hers', 'herself', 'it', \"it's\", 'its', 'itself', 'they', 'them', 'their', 'theirs', 'themselves', 'what', 'which', 'who', 'whom', 'this', 'that', \"that'll\", 'these', 'those', 'am', 'is', 'are', 'was', 'were', 'be', 'been', 'being', 'have', 'has', 'had', 'having', 'do', 'does', 'did', 'doing', 'a', 'an', 'the', 'and', 'but', 'if', 'or', 'because', 'as', 'until', 'while', 'of', 'at', 'by', 'for', 'with', 'about', 'against', 'between', 'into', 'through', 'during', 'before', 'after', 'above', 'below', 'to', 'from', 'up', 'down', 'in', 'out', 'on', 'off', 'over', 'under', 'again', 'further', 'then', 'once', 'here', 'there', 'when', 'where', 'why', 'how', 'all', 'any', 'both', 'each', 'few', 'more', 'most', 'other', 'some', 'such', 'no', 'nor', 'not', 'only', 'own', 'same', 'so', 'than', 'too', 'very', 's', 't', 'can', 'will', 'just', 'don', \"don't\", 'should', \"should've\", 'now', 'd', 'll', 'm', 'o', 're', 've', 'y', 'ain', 'aren', \"aren't\", 'couldn', \"couldn't\", 'didn', \"didn't\", 'doesn', \"doesn't\", 'hadn', \"hadn't\", 'hasn', \"hasn't\", 'haven', \"haven't\", 'isn', \"isn't\", 'ma', 'mightn', \"mightn't\", 'mustn', \"mustn't\", 'needn', \"needn't\", 'shan', \"shan't\", 'shouldn', \"shouldn't\", 'wasn', \"wasn't\", 'weren', \"weren't\", 'won', \"won't\", 'wouldn', \"wouldn't\"]\n"
          ]
        }
      ]
    },
    {
      "cell_type": "code",
      "source": [
        "# Remoning some usless information in the text\n",
        "text_cleaning_regex = \"@S+|https?:S+|http?:S|[^A-Za-z0-9]+\""
      ],
      "metadata": {
        "id": "Xl7eNoN3yKS4"
      },
      "execution_count": null,
      "outputs": []
    },
    {
      "cell_type": "code",
      "source": [
        "def clean_tweets(text, stem=False):\n",
        "  # Text passed to the regex equatio\n",
        "  text = re.sub(text_cleaning_regex, ' ', str(text).lower()).strip()\n",
        "  # Empty list created to store final tokens\n",
        "  tokens = []\n",
        "  for token in text.split():\n",
        "    # check if the token is a stop word or not\n",
        "    if token not in stop_words:\n",
        "      if stem:\n",
        "        # Paased to the snowball stemmer\n",
        "        tokens.append(stemmer.stem(token))\n",
        "      else:\n",
        "        # A\n",
        "        tokens.append(token)\n",
        "  return \" \".join(tokens)"
      ],
      "metadata": {
        "id": "qQMUrCl9zDUh"
      },
      "execution_count": null,
      "outputs": []
    },
    {
      "cell_type": "code",
      "source": [
        "df.text = df.text.apply(lambda x: clean_tweets(x))"
      ],
      "metadata": {
        "id": "AhwEGtWxzGEh"
      },
      "execution_count": null,
      "outputs": []
    },
    {
      "cell_type": "markdown",
      "source": [
        "# **Splitting dataset**"
      ],
      "metadata": {
        "id": "Xb-_2tEtzbA5"
      }
    },
    {
      "cell_type": "code",
      "source": [
        "# Splitting the data into training and testing sets\n",
        "(train_data, valid_data) = train_test_split(df, test_size=0.2,random_state=16)\n",
        "print(\"Train Data size:\", len(train_data))\n",
        "print(\"Valid Data size\", len(valid_data))"
      ],
      "metadata": {
        "colab": {
          "base_uri": "https://localhost:8080/"
        },
        "id": "Cnyuzh8izaPa",
        "outputId": "f31a3b36-3be3-4aaf-8eeb-6cd34886400e"
      },
      "execution_count": null,
      "outputs": [
        {
          "output_type": "stream",
          "name": "stdout",
          "text": [
            "Train Data size: 1280000\n",
            "Valid Data size 320000\n"
          ]
        }
      ]
    },
    {
      "cell_type": "code",
      "source": [
        "tokenizer = Tokenizer()\n",
        "tokenizer.fit_on_texts(train_data.text)\n",
        "word_index = tokenizer.word_index\n",
        "vocab_size = len(tokenizer.word_index) + 1\n",
        "print(\"Vocabulary Size :\", vocab_size)"
      ],
      "metadata": {
        "colab": {
          "base_uri": "https://localhost:8080/"
        },
        "id": "IMdqKuBYzql8",
        "outputId": "c1546dc4-cc67-472e-b085-9d858f65fccf"
      },
      "execution_count": null,
      "outputs": [
        {
          "output_type": "stream",
          "name": "stdout",
          "text": [
            "Vocabulary Size : 565660\n"
          ]
        }
      ]
    },
    {
      "cell_type": "code",
      "source": [
        "# The tokens are converted into sequences and then passed to the pad_sequences() function\n",
        "x_train = pad_sequences(tokenizer.texts_to_sequences(train_data.text),maxlen = 30)\n",
        "x_valid = pad_sequences(tokenizer.texts_to_sequences(valid_data.text),maxlen = 30)\n",
        "\n",
        "encoder = LabelEncoder()\n",
        "encoder.fit(train_data.sentiment.to_list())\n",
        "y_train = encoder.transform(train_data.sentiment.to_list())\n",
        "y_valid = encoder.transform(valid_data.sentiment.to_list())\n",
        "\n",
        "\n",
        "y_train = y_train.reshape(-1,1)\n",
        "y_valid = y_valid.reshape(-1,1)\n"
      ],
      "metadata": {
        "id": "P6bsMBOh0FJ-"
      },
      "execution_count": null,
      "outputs": []
    },
    {
      "cell_type": "markdown",
      "source": [
        "# **Word Embedding,One Hot,golve42b**"
      ],
      "metadata": {
        "id": "EVVa7ELI07en"
      }
    },
    {
      "cell_type": "code",
      "source": [
        "#one_hot\n",
        "y_train = np_utils.to_categorical(y_train, 2)\n",
        "y_valid = np_utils.to_categorical(y_valid, 2)\n",
        "print(x_train.shape)\n",
        "print(y_train.shape)\n",
        "print(x_valid.shape)\n",
        "print(y_valid.shape)"
      ],
      "metadata": {
        "colab": {
          "base_uri": "https://localhost:8080/"
        },
        "id": "UjiZBppZ0ib7",
        "outputId": "1f7f902b-5352-426a-929f-961e535a6a72"
      },
      "execution_count": null,
      "outputs": [
        {
          "output_type": "stream",
          "name": "stdout",
          "text": [
            "(1280000, 30)\n",
            "(1280000, 2)\n",
            "(320000, 30)\n",
            "(320000, 2)\n"
          ]
        }
      ]
    },
    {
      "cell_type": "code",
      "source": [
        "!wget http://nlp.stanford.edu/data/glove.42B.300d.zip"
      ],
      "metadata": {
        "colab": {
          "base_uri": "https://localhost:8080/"
        },
        "id": "Pv7HXfi800a2",
        "outputId": "458d4c9f-7fba-4455-fa4d-df18d332e8ea"
      },
      "execution_count": null,
      "outputs": [
        {
          "output_type": "stream",
          "name": "stdout",
          "text": [
            "--2022-01-04 08:50:24--  http://nlp.stanford.edu/data/glove.42B.300d.zip\n",
            "Resolving nlp.stanford.edu (nlp.stanford.edu)... 171.64.67.140\n",
            "Connecting to nlp.stanford.edu (nlp.stanford.edu)|171.64.67.140|:80... connected.\n",
            "HTTP request sent, awaiting response... 302 Found\n",
            "Location: https://nlp.stanford.edu/data/glove.42B.300d.zip [following]\n",
            "--2022-01-04 08:50:25--  https://nlp.stanford.edu/data/glove.42B.300d.zip\n",
            "Connecting to nlp.stanford.edu (nlp.stanford.edu)|171.64.67.140|:443... connected.\n",
            "HTTP request sent, awaiting response... 301 Moved Permanently\n",
            "Location: http://downloads.cs.stanford.edu/nlp/data/glove.42B.300d.zip [following]\n",
            "--2022-01-04 08:50:25--  http://downloads.cs.stanford.edu/nlp/data/glove.42B.300d.zip\n",
            "Resolving downloads.cs.stanford.edu (downloads.cs.stanford.edu)... 171.64.64.22\n",
            "Connecting to downloads.cs.stanford.edu (downloads.cs.stanford.edu)|171.64.64.22|:80... connected.\n",
            "HTTP request sent, awaiting response... 200 OK\n",
            "Length: 1877800501 (1.7G) [application/zip]\n",
            "Saving to: ‘glove.42B.300d.zip’\n",
            "\n",
            "glove.42B.300d.zip  100%[===================>]   1.75G  5.12MB/s    in 5m 54s  \n",
            "\n",
            "2022-01-04 08:56:19 (5.07 MB/s) - ‘glove.42B.300d.zip’ saved [1877800501/1877800501]\n",
            "\n"
          ]
        }
      ]
    },
    {
      "cell_type": "code",
      "source": [
        "# Using golve42b after 300\n",
        "!unzip /content/glove.42B.300d.zip"
      ],
      "metadata": {
        "colab": {
          "base_uri": "https://localhost:8080/"
        },
        "id": "jcw9MODl1KYU",
        "outputId": "5dd0f20c-ecc6-4f1f-eceb-68be79310b00"
      },
      "execution_count": null,
      "outputs": [
        {
          "output_type": "stream",
          "name": "stdout",
          "text": [
            "Archive:  /content/glove.42B.300d.zip\n",
            "  inflating: glove.42B.300d.txt      \n"
          ]
        }
      ]
    },
    {
      "cell_type": "code",
      "source": [
        "embeddings_index = {}\n",
        "# opening the downloaded glove embeddings file\n",
        "f = open('/content/glove.42B.300d.txt')\n",
        "for line in f:\n",
        "    # For each line file, the words are split and stored in a list\n",
        "    values = line.split()\n",
        "    word = value = values[0]\n",
        "    coefs = np.asarray(values[1:], dtype='float32')\n",
        "    embeddings_index[word] = coefs\n",
        "f.close()\n",
        "print('Found %s word vectors.' %len(embeddings_index))"
      ],
      "metadata": {
        "colab": {
          "base_uri": "https://localhost:8080/"
        },
        "id": "l66Ilix81ZQp",
        "outputId": "5478c185-e871-4e6f-dbd5-a93f158dda48"
      },
      "execution_count": null,
      "outputs": [
        {
          "output_type": "stream",
          "name": "stdout",
          "text": [
            "Found 1917494 word vectors.\n"
          ]
        }
      ]
    },
    {
      "cell_type": "code",
      "source": [
        "# creating an matrix with zeroes of shape vocab x embedding dimension\n",
        "embedding_matrix = np.zeros((vocab_size, 300))\n",
        "# Iterate through word, index in the dictionary\n",
        "for word, i in word_index.items():\n",
        "    # extract the corresponding vector for the vocab indice of same word\n",
        "    embedding_vector = embeddings_index.get(word)\n",
        "    if embedding_vector is not None:\n",
        "        # Storing it in a matrix\n",
        "        embedding_matrix[i] = embedding_vector"
      ],
      "metadata": {
        "id": "k45_k0Zr1f53"
      },
      "execution_count": null,
      "outputs": []
    },
    {
      "cell_type": "code",
      "source": [
        "embedding_layer = tf.keras.layers.Embedding(vocab_size,300,weights=[embedding_matrix],\n",
        "                                          input_length=30,trainable=False)\n"
      ],
      "metadata": {
        "id": "GcLfzhiT1zpa"
      },
      "execution_count": null,
      "outputs": []
    },
    {
      "cell_type": "markdown",
      "source": [
        "# **Test Data**"
      ],
      "metadata": {
        "id": "Owv6ycO5_9u_"
      }
    },
    {
      "cell_type": "code",
      "source": [
        "# test data\n",
        "df_test = pd.read_csv('/content/drive/MyDrive/Dataset/Sentiment Analysis/testdata.manual.2009.06.14.csv', header=None, names=cols,encoding='latin-1')\n",
        "df_test.head(5)"
      ],
      "metadata": {
        "colab": {
          "base_uri": "https://localhost:8080/"
        },
        "id": "dhwwA8j64Hzd",
        "outputId": "207d258d-b650-4f03-cd5a-9d6bffd0d42a"
      },
      "execution_count": null,
      "outputs": [
        {
          "output_type": "execute_result",
          "data": {
            "text/html": [
              "\n",
              "  <div id=\"df-c8b2c1f1-851b-47f0-a7cf-d2f2b337a439\">\n",
              "    <div class=\"colab-df-container\">\n",
              "      <div>\n",
              "<style scoped>\n",
              "    .dataframe tbody tr th:only-of-type {\n",
              "        vertical-align: middle;\n",
              "    }\n",
              "\n",
              "    .dataframe tbody tr th {\n",
              "        vertical-align: top;\n",
              "    }\n",
              "\n",
              "    .dataframe thead th {\n",
              "        text-align: right;\n",
              "    }\n",
              "</style>\n",
              "<table border=\"1\" class=\"dataframe\">\n",
              "  <thead>\n",
              "    <tr style=\"text-align: right;\">\n",
              "      <th></th>\n",
              "      <th>sentiment</th>\n",
              "      <th>id</th>\n",
              "      <th>date</th>\n",
              "      <th>query</th>\n",
              "      <th>user_name</th>\n",
              "      <th>text</th>\n",
              "    </tr>\n",
              "  </thead>\n",
              "  <tbody>\n",
              "    <tr>\n",
              "      <th>0</th>\n",
              "      <td>4</td>\n",
              "      <td>3</td>\n",
              "      <td>Mon May 11 03:17:40 UTC 2009</td>\n",
              "      <td>kindle2</td>\n",
              "      <td>tpryan</td>\n",
              "      <td>@stellargirl I loooooooovvvvvveee my Kindle2. ...</td>\n",
              "    </tr>\n",
              "    <tr>\n",
              "      <th>1</th>\n",
              "      <td>4</td>\n",
              "      <td>4</td>\n",
              "      <td>Mon May 11 03:18:03 UTC 2009</td>\n",
              "      <td>kindle2</td>\n",
              "      <td>vcu451</td>\n",
              "      <td>Reading my kindle2...  Love it... Lee childs i...</td>\n",
              "    </tr>\n",
              "    <tr>\n",
              "      <th>2</th>\n",
              "      <td>4</td>\n",
              "      <td>5</td>\n",
              "      <td>Mon May 11 03:18:54 UTC 2009</td>\n",
              "      <td>kindle2</td>\n",
              "      <td>chadfu</td>\n",
              "      <td>Ok, first assesment of the #kindle2 ...it fuck...</td>\n",
              "    </tr>\n",
              "    <tr>\n",
              "      <th>3</th>\n",
              "      <td>4</td>\n",
              "      <td>6</td>\n",
              "      <td>Mon May 11 03:19:04 UTC 2009</td>\n",
              "      <td>kindle2</td>\n",
              "      <td>SIX15</td>\n",
              "      <td>@kenburbary You'll love your Kindle2. I've had...</td>\n",
              "    </tr>\n",
              "    <tr>\n",
              "      <th>4</th>\n",
              "      <td>4</td>\n",
              "      <td>7</td>\n",
              "      <td>Mon May 11 03:21:41 UTC 2009</td>\n",
              "      <td>kindle2</td>\n",
              "      <td>yamarama</td>\n",
              "      <td>@mikefish  Fair enough. But i have the Kindle2...</td>\n",
              "    </tr>\n",
              "  </tbody>\n",
              "</table>\n",
              "</div>\n",
              "      <button class=\"colab-df-convert\" onclick=\"convertToInteractive('df-c8b2c1f1-851b-47f0-a7cf-d2f2b337a439')\"\n",
              "              title=\"Convert this dataframe to an interactive table.\"\n",
              "              style=\"display:none;\">\n",
              "        \n",
              "  <svg xmlns=\"http://www.w3.org/2000/svg\" height=\"24px\"viewBox=\"0 0 24 24\"\n",
              "       width=\"24px\">\n",
              "    <path d=\"M0 0h24v24H0V0z\" fill=\"none\"/>\n",
              "    <path d=\"M18.56 5.44l.94 2.06.94-2.06 2.06-.94-2.06-.94-.94-2.06-.94 2.06-2.06.94zm-11 1L8.5 8.5l.94-2.06 2.06-.94-2.06-.94L8.5 2.5l-.94 2.06-2.06.94zm10 10l.94 2.06.94-2.06 2.06-.94-2.06-.94-.94-2.06-.94 2.06-2.06.94z\"/><path d=\"M17.41 7.96l-1.37-1.37c-.4-.4-.92-.59-1.43-.59-.52 0-1.04.2-1.43.59L10.3 9.45l-7.72 7.72c-.78.78-.78 2.05 0 2.83L4 21.41c.39.39.9.59 1.41.59.51 0 1.02-.2 1.41-.59l7.78-7.78 2.81-2.81c.8-.78.8-2.07 0-2.86zM5.41 20L4 18.59l7.72-7.72 1.47 1.35L5.41 20z\"/>\n",
              "  </svg>\n",
              "      </button>\n",
              "      \n",
              "  <style>\n",
              "    .colab-df-container {\n",
              "      display:flex;\n",
              "      flex-wrap:wrap;\n",
              "      gap: 12px;\n",
              "    }\n",
              "\n",
              "    .colab-df-convert {\n",
              "      background-color: #E8F0FE;\n",
              "      border: none;\n",
              "      border-radius: 50%;\n",
              "      cursor: pointer;\n",
              "      display: none;\n",
              "      fill: #1967D2;\n",
              "      height: 32px;\n",
              "      padding: 0 0 0 0;\n",
              "      width: 32px;\n",
              "    }\n",
              "\n",
              "    .colab-df-convert:hover {\n",
              "      background-color: #E2EBFA;\n",
              "      box-shadow: 0px 1px 2px rgba(60, 64, 67, 0.3), 0px 1px 3px 1px rgba(60, 64, 67, 0.15);\n",
              "      fill: #174EA6;\n",
              "    }\n",
              "\n",
              "    [theme=dark] .colab-df-convert {\n",
              "      background-color: #3B4455;\n",
              "      fill: #D2E3FC;\n",
              "    }\n",
              "\n",
              "    [theme=dark] .colab-df-convert:hover {\n",
              "      background-color: #434B5C;\n",
              "      box-shadow: 0px 1px 3px 1px rgba(0, 0, 0, 0.15);\n",
              "      filter: drop-shadow(0px 1px 2px rgba(0, 0, 0, 0.3));\n",
              "      fill: #FFFFFF;\n",
              "    }\n",
              "  </style>\n",
              "\n",
              "      <script>\n",
              "        const buttonEl =\n",
              "          document.querySelector('#df-c8b2c1f1-851b-47f0-a7cf-d2f2b337a439 button.colab-df-convert');\n",
              "        buttonEl.style.display =\n",
              "          google.colab.kernel.accessAllowed ? 'block' : 'none';\n",
              "\n",
              "        async function convertToInteractive(key) {\n",
              "          const element = document.querySelector('#df-c8b2c1f1-851b-47f0-a7cf-d2f2b337a439');\n",
              "          const dataTable =\n",
              "            await google.colab.kernel.invokeFunction('convertToInteractive',\n",
              "                                                     [key], {});\n",
              "          if (!dataTable) return;\n",
              "\n",
              "          const docLinkHtml = 'Like what you see? Visit the ' +\n",
              "            '<a target=\"_blank\" href=https://colab.research.google.com/notebooks/data_table.ipynb>data table notebook</a>'\n",
              "            + ' to learn more about interactive tables.';\n",
              "          element.innerHTML = '';\n",
              "          dataTable['output_type'] = 'display_data';\n",
              "          await google.colab.output.renderOutput(dataTable, element);\n",
              "          const docLink = document.createElement('div');\n",
              "          docLink.innerHTML = docLinkHtml;\n",
              "          element.appendChild(docLink);\n",
              "        }\n",
              "      </script>\n",
              "    </div>\n",
              "  </div>\n",
              "  "
            ],
            "text/plain": [
              "   sentiment  id  ... user_name                                               text\n",
              "0          4   3  ...    tpryan  @stellargirl I loooooooovvvvvveee my Kindle2. ...\n",
              "1          4   4  ...    vcu451  Reading my kindle2...  Love it... Lee childs i...\n",
              "2          4   5  ...    chadfu  Ok, first assesment of the #kindle2 ...it fuck...\n",
              "3          4   6  ...     SIX15  @kenburbary You'll love your Kindle2. I've had...\n",
              "4          4   7  ...  yamarama  @mikefish  Fair enough. But i have the Kindle2...\n",
              "\n",
              "[5 rows x 6 columns]"
            ]
          },
          "metadata": {},
          "execution_count": 20
        }
      ]
    },
    {
      "cell_type": "code",
      "source": [
        "df_test = df_test.drop(['id', 'date', 'query', 'user_name'], axis=1)\n",
        "df_test.head(5)\n"
      ],
      "metadata": {
        "colab": {
          "base_uri": "https://localhost:8080/"
        },
        "id": "cCDTyXnf4KMY",
        "outputId": "80c31a32-1d05-4b84-91fe-b700cb9c7d3e"
      },
      "execution_count": null,
      "outputs": [
        {
          "output_type": "execute_result",
          "data": {
            "text/html": [
              "\n",
              "  <div id=\"df-b75f386d-fdaa-4c55-be13-f33b0ce2358e\">\n",
              "    <div class=\"colab-df-container\">\n",
              "      <div>\n",
              "<style scoped>\n",
              "    .dataframe tbody tr th:only-of-type {\n",
              "        vertical-align: middle;\n",
              "    }\n",
              "\n",
              "    .dataframe tbody tr th {\n",
              "        vertical-align: top;\n",
              "    }\n",
              "\n",
              "    .dataframe thead th {\n",
              "        text-align: right;\n",
              "    }\n",
              "</style>\n",
              "<table border=\"1\" class=\"dataframe\">\n",
              "  <thead>\n",
              "    <tr style=\"text-align: right;\">\n",
              "      <th></th>\n",
              "      <th>sentiment</th>\n",
              "      <th>text</th>\n",
              "    </tr>\n",
              "  </thead>\n",
              "  <tbody>\n",
              "    <tr>\n",
              "      <th>0</th>\n",
              "      <td>4</td>\n",
              "      <td>@stellargirl I loooooooovvvvvveee my Kindle2. ...</td>\n",
              "    </tr>\n",
              "    <tr>\n",
              "      <th>1</th>\n",
              "      <td>4</td>\n",
              "      <td>Reading my kindle2...  Love it... Lee childs i...</td>\n",
              "    </tr>\n",
              "    <tr>\n",
              "      <th>2</th>\n",
              "      <td>4</td>\n",
              "      <td>Ok, first assesment of the #kindle2 ...it fuck...</td>\n",
              "    </tr>\n",
              "    <tr>\n",
              "      <th>3</th>\n",
              "      <td>4</td>\n",
              "      <td>@kenburbary You'll love your Kindle2. I've had...</td>\n",
              "    </tr>\n",
              "    <tr>\n",
              "      <th>4</th>\n",
              "      <td>4</td>\n",
              "      <td>@mikefish  Fair enough. But i have the Kindle2...</td>\n",
              "    </tr>\n",
              "  </tbody>\n",
              "</table>\n",
              "</div>\n",
              "      <button class=\"colab-df-convert\" onclick=\"convertToInteractive('df-b75f386d-fdaa-4c55-be13-f33b0ce2358e')\"\n",
              "              title=\"Convert this dataframe to an interactive table.\"\n",
              "              style=\"display:none;\">\n",
              "        \n",
              "  <svg xmlns=\"http://www.w3.org/2000/svg\" height=\"24px\"viewBox=\"0 0 24 24\"\n",
              "       width=\"24px\">\n",
              "    <path d=\"M0 0h24v24H0V0z\" fill=\"none\"/>\n",
              "    <path d=\"M18.56 5.44l.94 2.06.94-2.06 2.06-.94-2.06-.94-.94-2.06-.94 2.06-2.06.94zm-11 1L8.5 8.5l.94-2.06 2.06-.94-2.06-.94L8.5 2.5l-.94 2.06-2.06.94zm10 10l.94 2.06.94-2.06 2.06-.94-2.06-.94-.94-2.06-.94 2.06-2.06.94z\"/><path d=\"M17.41 7.96l-1.37-1.37c-.4-.4-.92-.59-1.43-.59-.52 0-1.04.2-1.43.59L10.3 9.45l-7.72 7.72c-.78.78-.78 2.05 0 2.83L4 21.41c.39.39.9.59 1.41.59.51 0 1.02-.2 1.41-.59l7.78-7.78 2.81-2.81c.8-.78.8-2.07 0-2.86zM5.41 20L4 18.59l7.72-7.72 1.47 1.35L5.41 20z\"/>\n",
              "  </svg>\n",
              "      </button>\n",
              "      \n",
              "  <style>\n",
              "    .colab-df-container {\n",
              "      display:flex;\n",
              "      flex-wrap:wrap;\n",
              "      gap: 12px;\n",
              "    }\n",
              "\n",
              "    .colab-df-convert {\n",
              "      background-color: #E8F0FE;\n",
              "      border: none;\n",
              "      border-radius: 50%;\n",
              "      cursor: pointer;\n",
              "      display: none;\n",
              "      fill: #1967D2;\n",
              "      height: 32px;\n",
              "      padding: 0 0 0 0;\n",
              "      width: 32px;\n",
              "    }\n",
              "\n",
              "    .colab-df-convert:hover {\n",
              "      background-color: #E2EBFA;\n",
              "      box-shadow: 0px 1px 2px rgba(60, 64, 67, 0.3), 0px 1px 3px 1px rgba(60, 64, 67, 0.15);\n",
              "      fill: #174EA6;\n",
              "    }\n",
              "\n",
              "    [theme=dark] .colab-df-convert {\n",
              "      background-color: #3B4455;\n",
              "      fill: #D2E3FC;\n",
              "    }\n",
              "\n",
              "    [theme=dark] .colab-df-convert:hover {\n",
              "      background-color: #434B5C;\n",
              "      box-shadow: 0px 1px 3px 1px rgba(0, 0, 0, 0.15);\n",
              "      filter: drop-shadow(0px 1px 2px rgba(0, 0, 0, 0.3));\n",
              "      fill: #FFFFFF;\n",
              "    }\n",
              "  </style>\n",
              "\n",
              "      <script>\n",
              "        const buttonEl =\n",
              "          document.querySelector('#df-b75f386d-fdaa-4c55-be13-f33b0ce2358e button.colab-df-convert');\n",
              "        buttonEl.style.display =\n",
              "          google.colab.kernel.accessAllowed ? 'block' : 'none';\n",
              "\n",
              "        async function convertToInteractive(key) {\n",
              "          const element = document.querySelector('#df-b75f386d-fdaa-4c55-be13-f33b0ce2358e');\n",
              "          const dataTable =\n",
              "            await google.colab.kernel.invokeFunction('convertToInteractive',\n",
              "                                                     [key], {});\n",
              "          if (!dataTable) return;\n",
              "\n",
              "          const docLinkHtml = 'Like what you see? Visit the ' +\n",
              "            '<a target=\"_blank\" href=https://colab.research.google.com/notebooks/data_table.ipynb>data table notebook</a>'\n",
              "            + ' to learn more about interactive tables.';\n",
              "          element.innerHTML = '';\n",
              "          dataTable['output_type'] = 'display_data';\n",
              "          await google.colab.output.renderOutput(dataTable, element);\n",
              "          const docLink = document.createElement('div');\n",
              "          docLink.innerHTML = docLinkHtml;\n",
              "          element.appendChild(docLink);\n",
              "        }\n",
              "      </script>\n",
              "    </div>\n",
              "  </div>\n",
              "  "
            ],
            "text/plain": [
              "   sentiment                                               text\n",
              "0          4  @stellargirl I loooooooovvvvvveee my Kindle2. ...\n",
              "1          4  Reading my kindle2...  Love it... Lee childs i...\n",
              "2          4  Ok, first assesment of the #kindle2 ...it fuck...\n",
              "3          4  @kenburbary You'll love your Kindle2. I've had...\n",
              "4          4  @mikefish  Fair enough. But i have the Kindle2..."
            ]
          },
          "metadata": {},
          "execution_count": 21
        }
      ]
    },
    {
      "cell_type": "code",
      "source": [
        "df_test.sentiment = df_test.sentiment.apply(lambda x: mapper(x))\n"
      ],
      "metadata": {
        "id": "0KLe_e_A5BWC"
      },
      "execution_count": null,
      "outputs": []
    },
    {
      "cell_type": "code",
      "source": [
        "df_test.sentiment"
      ],
      "metadata": {
        "colab": {
          "base_uri": "https://localhost:8080/"
        },
        "id": "S3v_RLW55PyK",
        "outputId": "b3b6d339-1cb5-4535-a04a-7d3fc9c0b4df"
      },
      "execution_count": null,
      "outputs": [
        {
          "output_type": "execute_result",
          "data": {
            "text/plain": [
              "0      2\n",
              "1      2\n",
              "2      2\n",
              "3      2\n",
              "4      2\n",
              "      ..\n",
              "493    1\n",
              "494    0\n",
              "495    2\n",
              "496    0\n",
              "497    0\n",
              "Name: sentiment, Length: 498, dtype: int64"
            ]
          },
          "metadata": {},
          "execution_count": 23
        }
      ]
    },
    {
      "cell_type": "code",
      "source": [
        "df_test=df_test.drop(df_test[df_test[\"sentiment\"]==1].index)"
      ],
      "metadata": {
        "id": "5UMy5N5NTAnd"
      },
      "execution_count": null,
      "outputs": []
    },
    {
      "cell_type": "code",
      "source": [
        "df_test.sentiment"
      ],
      "metadata": {
        "colab": {
          "base_uri": "https://localhost:8080/"
        },
        "id": "AfVUIdW9TRPo",
        "outputId": "2657d095-43fd-479f-bf07-2eaa5615170f"
      },
      "execution_count": null,
      "outputs": [
        {
          "output_type": "execute_result",
          "data": {
            "text/plain": [
              "0      2\n",
              "1      2\n",
              "2      2\n",
              "3      2\n",
              "4      2\n",
              "      ..\n",
              "492    2\n",
              "494    0\n",
              "495    2\n",
              "496    0\n",
              "497    0\n",
              "Name: sentiment, Length: 359, dtype: int64"
            ]
          },
          "metadata": {},
          "execution_count": 25
        }
      ]
    },
    {
      "cell_type": "code",
      "source": [
        "df_test.text = df_test.text.apply(lambda x: clean_tweets(x))"
      ],
      "metadata": {
        "id": "5hUS0D6bRhTq"
      },
      "execution_count": null,
      "outputs": []
    },
    {
      "cell_type": "code",
      "source": [
        "x_test = pad_sequences(tokenizer.texts_to_sequences(df_test.text),maxlen = 30)"
      ],
      "metadata": {
        "id": "raLBdM_vSCZO"
      },
      "execution_count": null,
      "outputs": []
    },
    {
      "cell_type": "code",
      "source": [
        "encoder = LabelEncoder()\n",
        "encoder.fit(df_test.sentiment.to_list())\n",
        "\n",
        "y_test = encoder.transform(df_test.sentiment.to_list())\n",
        "y_test = y_test.reshape(-1,1)\n",
        "y_test = np_utils.to_categorical(y_test, 2)"
      ],
      "metadata": {
        "id": "l0a6_PFxSXRD"
      },
      "execution_count": null,
      "outputs": []
    },
    {
      "cell_type": "code",
      "source": [
        "print(x_test.shape)\n",
        "print(y_test.shape)"
      ],
      "metadata": {
        "id": "5XNophFlSnay",
        "colab": {
          "base_uri": "https://localhost:8080/"
        },
        "outputId": "68fb25f2-376b-469c-96eb-be67aad4e225"
      },
      "execution_count": null,
      "outputs": [
        {
          "output_type": "stream",
          "name": "stdout",
          "text": [
            "(359, 30)\n",
            "(359, 2)\n"
          ]
        }
      ]
    },
    {
      "cell_type": "markdown",
      "source": [
        "# **a. LSTM**"
      ],
      "metadata": {
        "id": "2I0XJw1u5U91"
      }
    },
    {
      "cell_type": "markdown",
      "metadata": {
        "id": "UUfhnIyPpuSD"
      },
      "source": [
        "\n",
        "**Parameters and Hyper-Parameters**\n",
        "* \tBatch Size: 1024\n",
        "* \tEpochs: 20\n",
        "* \tNumber of Neurons in hidden layers:150\n",
        "* \tNumber of Neurons in output layer:3\n",
        "* \tHidden Layer Activation Function: -\n",
        "* \tOutput Layer Activation Function: Softmax\n",
        "* \tLoss Function: Categorical_Crossentropy\n",
        "* \tOptimizer: ADAM\n",
        "* \tDropout: 0.2\n",
        "\n",
        "\n",
        "\n",
        "\n",
        "\n",
        "\n",
        "\n",
        "\n",
        "\n",
        "\n"
      ]
    },
    {
      "cell_type": "code",
      "source": [
        "# The Input layer \n",
        "sequence_input = Input(shape=(30,), dtype='int32')\n",
        "# Inputs passed to the embedding layer\n",
        "embedding_sequences = embedding_layer(sequence_input)\n",
        "# dropout and conv layer \n",
        "x = Dropout(0.2)(embedding_sequences)\n",
        "#x = Conv1D(150, 5, activation='relu')(x)\n",
        "# Passed on to the LSTM layer\n",
        "x = LSTM(150, dropout=0.2, recurrent_dropout=0.2)(x)\n",
        "#x = Dense(512, activation='relu')(x)\n",
        "#x = Dropout(0.5)(x)\n",
        "#x = Dense(512, activation='relu')(x)\n",
        "# Passed on to activation layer to get final output\n",
        "outputs = Dense(2, activation='softmax')(x)\n",
        "model = tf.keras.Model(sequence_input, outputs)"
      ],
      "metadata": {
        "colab": {
          "base_uri": "https://localhost:8080/"
        },
        "id": "ovkc0C0p5Yfa",
        "outputId": "43577ca7-6da6-4511-dd4e-2178bc5834e7"
      },
      "execution_count": null,
      "outputs": [
        {
          "output_type": "stream",
          "name": "stdout",
          "text": [
            "WARNING:tensorflow:Layer lstm will not use cuDNN kernels since it doesn't meet the criteria. It will use a generic GPU kernel as fallback when running on GPU.\n"
          ]
        }
      ]
    },
    {
      "cell_type": "code",
      "source": [
        "model.compile(optimizer='adam',loss='categorical_crossentropy',metrics=['accuracy'])\n",
        "history = model.fit(x_train, y_train, batch_size=1024, epochs=20, validation_data=(x_valid, y_valid),verbose = 1)\n"
      ],
      "metadata": {
        "colab": {
          "base_uri": "https://localhost:8080/"
        },
        "id": "SB-YlxZzDL2R",
        "outputId": "47aabb38-e162-4b57-8e63-4f1049184ebf"
      },
      "execution_count": null,
      "outputs": [
        {
          "output_type": "stream",
          "name": "stdout",
          "text": [
            "Epoch 1/20\n",
            "1250/1250 [==============================] - 242s 190ms/step - loss: 0.4953 - accuracy: 0.7562 - val_loss: 0.4599 - val_accuracy: 0.7802\n",
            "Epoch 2/20\n",
            "1250/1250 [==============================] - 231s 185ms/step - loss: 0.4626 - accuracy: 0.7783 - val_loss: 0.4465 - val_accuracy: 0.7886\n",
            "Epoch 3/20\n",
            "1250/1250 [==============================] - 232s 185ms/step - loss: 0.4515 - accuracy: 0.7851 - val_loss: 0.4426 - val_accuracy: 0.7908\n",
            "Epoch 4/20\n",
            "1250/1250 [==============================] - 231s 185ms/step - loss: 0.4447 - accuracy: 0.7894 - val_loss: 0.4376 - val_accuracy: 0.7938\n",
            "Epoch 5/20\n",
            "1250/1250 [==============================] - 232s 185ms/step - loss: 0.4396 - accuracy: 0.7925 - val_loss: 0.4340 - val_accuracy: 0.7963\n",
            "Epoch 6/20\n",
            "1250/1250 [==============================] - 232s 185ms/step - loss: 0.4356 - accuracy: 0.7946 - val_loss: 0.4341 - val_accuracy: 0.7969\n",
            "Epoch 7/20\n",
            "1250/1250 [==============================] - 238s 190ms/step - loss: 0.4328 - accuracy: 0.7965 - val_loss: 0.4305 - val_accuracy: 0.7985\n",
            "Epoch 8/20\n",
            "1250/1250 [==============================] - 231s 185ms/step - loss: 0.4302 - accuracy: 0.7979 - val_loss: 0.4313 - val_accuracy: 0.7981\n",
            "Epoch 9/20\n",
            "1250/1250 [==============================] - 231s 185ms/step - loss: 0.4275 - accuracy: 0.7994 - val_loss: 0.4298 - val_accuracy: 0.7993\n",
            "Epoch 10/20\n",
            "1250/1250 [==============================] - 237s 190ms/step - loss: 0.4258 - accuracy: 0.8004 - val_loss: 0.4296 - val_accuracy: 0.7991\n",
            "Epoch 11/20\n",
            "1250/1250 [==============================] - 237s 190ms/step - loss: 0.4243 - accuracy: 0.8010 - val_loss: 0.4296 - val_accuracy: 0.8005\n",
            "Epoch 12/20\n",
            "1250/1250 [==============================] - 231s 185ms/step - loss: 0.4227 - accuracy: 0.8021 - val_loss: 0.4288 - val_accuracy: 0.8003\n",
            "Epoch 13/20\n",
            "1250/1250 [==============================] - 231s 185ms/step - loss: 0.4215 - accuracy: 0.8026 - val_loss: 0.4284 - val_accuracy: 0.8003\n",
            "Epoch 14/20\n",
            "1250/1250 [==============================] - 231s 185ms/step - loss: 0.4204 - accuracy: 0.8034 - val_loss: 0.4269 - val_accuracy: 0.8009\n",
            "Epoch 15/20\n",
            "1250/1250 [==============================] - 232s 185ms/step - loss: 0.4195 - accuracy: 0.8042 - val_loss: 0.4301 - val_accuracy: 0.8001\n",
            "Epoch 16/20\n",
            "1250/1250 [==============================] - 231s 185ms/step - loss: 0.4180 - accuracy: 0.8047 - val_loss: 0.4273 - val_accuracy: 0.8008\n",
            "Epoch 17/20\n",
            "1250/1250 [==============================] - 232s 186ms/step - loss: 0.4174 - accuracy: 0.8049 - val_loss: 0.4302 - val_accuracy: 0.8002\n",
            "Epoch 18/20\n",
            "1250/1250 [==============================] - 232s 185ms/step - loss: 0.4170 - accuracy: 0.8051 - val_loss: 0.4296 - val_accuracy: 0.8004\n",
            "Epoch 19/20\n",
            "1250/1250 [==============================] - 231s 185ms/step - loss: 0.4162 - accuracy: 0.8061 - val_loss: 0.4286 - val_accuracy: 0.8010\n",
            "Epoch 20/20\n",
            "1250/1250 [==============================] - 231s 185ms/step - loss: 0.4152 - accuracy: 0.8062 - val_loss: 0.4280 - val_accuracy: 0.8012\n"
          ]
        }
      ]
    },
    {
      "cell_type": "code",
      "source": [
        "# Evaluation on the training\n",
        "print('Evaluation with Test Set:')\n",
        "loss, acc = model.evaluate(x_test, y_test, verbose=0)\n",
        "print('Test loss:', loss)\n",
        "print('Test acc:', acc)"
      ],
      "metadata": {
        "id": "Ui9CDJ6B246s",
        "colab": {
          "base_uri": "https://localhost:8080/"
        },
        "outputId": "587f17e0-4e2c-4fab-b088-c365295036a0"
      },
      "execution_count": null,
      "outputs": [
        {
          "output_type": "stream",
          "name": "stdout",
          "text": [
            "Evaluation with Test Set:\n",
            "Test loss: 0.37673869729042053\n",
            "Test acc: 0.8328690528869629\n"
          ]
        }
      ]
    },
    {
      "cell_type": "code",
      "source": [
        "plothist(history)\n",
        "plothist_loss(history)"
      ],
      "metadata": {
        "id": "m9N8-HkTDFhh",
        "colab": {
          "base_uri": "https://localhost:8080/",
          "height": 573
        },
        "outputId": "51850056-5b31-4df9-f110-43d8a02a9f0f"
      },
      "execution_count": null,
      "outputs": [
        {
          "output_type": "display_data",
          "data": {
            "image/png": "[encoded data removed]",
            "text/plain": [
              "<Figure size 432x288 with 1 Axes>"
            ]
          },
          "metadata": {
            "needs_background": "light"
          }
        },
        {
          "output_type": "display_data",
          "data": {
            "image/png": "[encoded data removed]",
            "text/plain": [
              "<Figure size 432x288 with 1 Axes>"
            ]
          },
          "metadata": {
            "needs_background": "light"
          }
        }
      ]
    },
    {
      "cell_type": "markdown",
      "metadata": {
        "id": "mEvFoOqNSJus"
      },
      "source": [
        "### **Confusion Matrix and Error**"
      ]
    },
    {
      "cell_type": "code",
      "execution_count": null,
      "metadata": {
        "id": "v2pYN3WYPfWo",
        "colab": {
          "base_uri": "https://localhost:8080/",
          "height": 632
        },
        "outputId": "662bdc7c-62f2-4d32-f359-f53b77757c6e"
      },
      "outputs": [
        {
          "output_type": "execute_result",
          "data": {
            "text/plain": [
              "Text(0.5, 1.0, 'Refined Confusion Matrix')"
            ]
          },
          "metadata": {},
          "execution_count": 34
        },
        {
          "output_type": "display_data",
          "data": {
            "image/png": "[encoded data removed]",
            "text/plain": [
              "<Figure size 648x648 with 2 Axes>"
            ]
          },
          "metadata": {
            "needs_background": "light"
          }
        }
      ],
      "source": [
        "y_pred=model.predict(x_test) \n",
        "\n",
        "y_pred=np.argmax(y_pred, axis=1)\n",
        "y_test_cm=np.argmax(y_test, axis=1)\n",
        "\n",
        "\n",
        "cm = confusion_matrix(y_test_cm, y_pred)\n",
        "labels=['negative' , 'positive']\n",
        "# Plot confusion matrix in a beautiful manner\n",
        "fig = plt.figure(figsize=(9, 9))\n",
        "ax= plt.subplot()\n",
        "sns.heatmap(cm, annot=True, ax = ax, fmt = 'g'); #annot=True to annotate cells\n",
        "# labels, title and ticks\n",
        "ax.set_xlabel('Predicted', fontsize=20)\n",
        "ax.xaxis.set_label_position('bottom')\n",
        "plt.xticks(rotation=90)\n",
        "ax.xaxis.set_ticklabels(labels, fontsize = 10)\n",
        "ax.xaxis.tick_bottom()\n",
        "\n",
        "ax.set_ylabel('True', fontsize=20)\n",
        "ax.yaxis.set_ticklabels(labels, fontsize = 10)\n",
        "plt.yticks(rotation=0)\n",
        "\n",
        "plt.title('Refined Confusion Matrix', fontsize=20)"
      ]
    },
    {
      "cell_type": "code",
      "source": [
        "print(classification_report(y_test_cm, y_pred))"
      ],
      "metadata": {
        "id": "Kwyq6nKkSaUM",
        "colab": {
          "base_uri": "https://localhost:8080/"
        },
        "outputId": "a8d83e3b-b8fa-41b8-8335-ffa2a1064cbf"
      },
      "execution_count": null,
      "outputs": [
        {
          "output_type": "stream",
          "name": "stdout",
          "text": [
            "              precision    recall  f1-score   support\n",
            "\n",
            "           0       0.84      0.81      0.83       177\n",
            "           1       0.82      0.85      0.84       182\n",
            "\n",
            "    accuracy                           0.83       359\n",
            "   macro avg       0.83      0.83      0.83       359\n",
            "weighted avg       0.83      0.83      0.83       359\n",
            "\n"
          ]
        }
      ]
    },
    {
      "cell_type": "markdown",
      "source": [
        "# **b. Bio-LSTM**"
      ],
      "metadata": {
        "id": "vY8SsmrPr6Lo"
      }
    },
    {
      "cell_type": "markdown",
      "metadata": {
        "id": "dbTAAxLzbued"
      },
      "source": [
        "\n",
        "**Parameters and Hyper-Parameters**\n",
        "* \tBatch Size: 1024\n",
        "* \tEpochs: 20\n",
        "* \tNumber of Neurons in hidden layers:150\n",
        "* \tNumber of Neurons in output layer:3\n",
        "* \tHidden Layer Activation Function: -\n",
        "* \tOutput Layer Activation Function: Softmax\n",
        "* \tLoss Function: Categorical_Crossentropy\n",
        "* \tOptimizer: ADAM\n",
        "* \tDropout: 0.2\n",
        "\n",
        "\n",
        "\n",
        "\n",
        "\n",
        "\n",
        "\n",
        "\n",
        "\n",
        "\n"
      ]
    },
    {
      "cell_type": "code",
      "source": [
        "sequence_input = Input(shape=(30,), dtype='int32')\n",
        "embedding_sequences = embedding_layer(sequence_input)\n",
        "x = SpatialDropout1D(0.2)(embedding_sequences)\n",
        "x = Bidirectional(LSTM(150, dropout=0.2, recurrent_dropout=0.2))(x)\n",
        "outputs = Dense(2, activation='softmax')(x)\n",
        "model = tf.keras.Model(sequence_input, outputs)"
      ],
      "metadata": {
        "id": "e2WtSkdbSwR8",
        "colab": {
          "base_uri": "https://localhost:8080/"
        },
        "outputId": "f2d9d3ca-08db-494e-deb0-9f7ef4952e21"
      },
      "execution_count": null,
      "outputs": [
        {
          "output_type": "stream",
          "name": "stdout",
          "text": [
            "WARNING:tensorflow:Layer lstm_1 will not use cuDNN kernels since it doesn't meet the criteria. It will use a generic GPU kernel as fallback when running on GPU.\n",
            "WARNING:tensorflow:Layer lstm_1 will not use cuDNN kernels since it doesn't meet the criteria. It will use a generic GPU kernel as fallback when running on GPU.\n",
            "WARNING:tensorflow:Layer lstm_1 will not use cuDNN kernels since it doesn't meet the criteria. It will use a generic GPU kernel as fallback when running on GPU.\n"
          ]
        }
      ]
    },
    {
      "cell_type": "code",
      "source": [
        "model.compile(loss='categorical_crossentropy', optimizer='adam', metrics=['accuracy'])\n",
        "history_bilstm = model.fit(x_train, y_train, batch_size=1024, epochs=20, validation_data=(x_valid, y_valid))\n",
        "# Evaluation on the training\n",
        "print('Evaluation with Test Set:')\n",
        "loss, acc = model.evaluate(x_test, y_test, verbose=0)\n",
        "print('Test loss:', loss)\n",
        "print('Test acc:', acc)\n"
      ],
      "metadata": {
        "id": "IqLQYzA5S_9J",
        "colab": {
          "base_uri": "https://localhost:8080/"
        },
        "outputId": "9ab22f5a-e654-4d6f-cee7-77de4921ecde"
      },
      "execution_count": null,
      "outputs": [
        {
          "output_type": "stream",
          "name": "stdout",
          "text": [
            "Epoch 1/20\n",
            "1250/1250 [==============================] - 468s 371ms/step - loss: 0.4942 - accuracy: 0.7569 - val_loss: 0.4582 - val_accuracy: 0.7808\n",
            "Epoch 2/20\n",
            "1250/1250 [==============================] - 463s 370ms/step - loss: 0.4614 - accuracy: 0.7792 - val_loss: 0.4461 - val_accuracy: 0.7895\n",
            "Epoch 3/20\n",
            "1250/1250 [==============================] - 462s 370ms/step - loss: 0.4495 - accuracy: 0.7866 - val_loss: 0.4489 - val_accuracy: 0.7864\n",
            "Epoch 4/20\n",
            "1250/1250 [==============================] - 450s 360ms/step - loss: 0.4408 - accuracy: 0.7918 - val_loss: 0.4341 - val_accuracy: 0.7960\n",
            "Epoch 5/20\n",
            "1250/1250 [==============================] - 463s 371ms/step - loss: 0.4346 - accuracy: 0.7952 - val_loss: 0.4341 - val_accuracy: 0.7973\n",
            "Epoch 6/20\n",
            "1250/1250 [==============================] - 449s 360ms/step - loss: 0.4298 - accuracy: 0.7979 - val_loss: 0.4350 - val_accuracy: 0.7962\n",
            "Epoch 7/20\n",
            "1250/1250 [==============================] - 463s 370ms/step - loss: 0.4254 - accuracy: 0.8007 - val_loss: 0.4320 - val_accuracy: 0.7978\n",
            "Epoch 8/20\n",
            "1250/1250 [==============================] - 463s 370ms/step - loss: 0.4220 - accuracy: 0.8026 - val_loss: 0.4322 - val_accuracy: 0.7996\n",
            "Epoch 9/20\n",
            "1250/1250 [==============================] - 449s 360ms/step - loss: 0.4186 - accuracy: 0.8045 - val_loss: 0.4279 - val_accuracy: 0.8009\n",
            "Epoch 10/20\n",
            "1250/1250 [==============================] - 450s 360ms/step - loss: 0.4161 - accuracy: 0.8056 - val_loss: 0.4260 - val_accuracy: 0.8014\n",
            "Epoch 11/20\n",
            "1250/1250 [==============================] - 449s 359ms/step - loss: 0.4138 - accuracy: 0.8072 - val_loss: 0.4286 - val_accuracy: 0.8018\n",
            "Epoch 12/20\n",
            "1250/1250 [==============================] - 449s 359ms/step - loss: 0.4114 - accuracy: 0.8087 - val_loss: 0.4278 - val_accuracy: 0.8012\n",
            "Epoch 13/20\n",
            "1250/1250 [==============================] - 450s 360ms/step - loss: 0.4096 - accuracy: 0.8098 - val_loss: 0.4266 - val_accuracy: 0.8022\n",
            "Epoch 14/20\n",
            "1250/1250 [==============================] - 451s 360ms/step - loss: 0.4080 - accuracy: 0.8104 - val_loss: 0.4272 - val_accuracy: 0.8025\n",
            "Epoch 15/20\n",
            "1250/1250 [==============================] - 451s 361ms/step - loss: 0.4064 - accuracy: 0.8113 - val_loss: 0.4321 - val_accuracy: 0.8009\n",
            "Epoch 16/20\n",
            "1250/1250 [==============================] - 463s 371ms/step - loss: 0.4045 - accuracy: 0.8123 - val_loss: 0.4365 - val_accuracy: 0.8001\n",
            "Epoch 17/20\n",
            "1250/1250 [==============================] - 449s 359ms/step - loss: 0.4038 - accuracy: 0.8132 - val_loss: 0.4293 - val_accuracy: 0.8027\n",
            "Epoch 18/20\n",
            "1250/1250 [==============================] - 449s 359ms/step - loss: 0.4024 - accuracy: 0.8138 - val_loss: 0.4283 - val_accuracy: 0.8031\n",
            "Epoch 19/20\n",
            "1250/1250 [==============================] - 449s 359ms/step - loss: 0.4014 - accuracy: 0.8145 - val_loss: 0.4323 - val_accuracy: 0.8030\n",
            "Epoch 20/20\n",
            "1250/1250 [==============================] - 449s 359ms/step - loss: 0.4002 - accuracy: 0.8151 - val_loss: 0.4314 - val_accuracy: 0.8014\n",
            "Evaluation with Test Set:\n",
            "Test loss: 0.3746102750301361\n",
            "Test acc: 0.835654616355896\n"
          ]
        }
      ]
    },
    {
      "cell_type": "code",
      "source": [
        "plothist(history_bilstm)\n",
        "plothist_loss(history_bilstm)"
      ],
      "metadata": {
        "id": "O8x98wx6inBS",
        "colab": {
          "base_uri": "https://localhost:8080/",
          "height": 573
        },
        "outputId": "e7d68b75-86e7-4909-d270-1b3f418507eb"
      },
      "execution_count": null,
      "outputs": [
        {
          "output_type": "display_data",
          "data": {
            "image/png": "[encoded data removed]",
            "text/plain": [
              "<Figure size 432x288 with 1 Axes>"
            ]
          },
          "metadata": {
            "needs_background": "light"
          }
        },
        {
          "output_type": "display_data",
          "data": {
            "image/png": "[encoded data removed]",
            "text/plain": [
              "<Figure size 432x288 with 1 Axes>"
            ]
          },
          "metadata": {
            "needs_background": "light"
          }
        }
      ]
    },
    {
      "cell_type": "markdown",
      "metadata": {
        "id": "pPxAOgAZi8Pm"
      },
      "source": [
        "### **Confusion Matrix and Error**"
      ]
    },
    {
      "cell_type": "code",
      "execution_count": null,
      "metadata": {
        "id": "cI8gkgPhi8Pn",
        "colab": {
          "base_uri": "https://localhost:8080/",
          "height": 632
        },
        "outputId": "3411aaa3-0cf7-45eb-e650-e697f33b9055"
      },
      "outputs": [
        {
          "output_type": "execute_result",
          "data": {
            "text/plain": [
              "Text(0.5, 1.0, 'Refined Confusion Matrix')"
            ]
          },
          "metadata": {},
          "execution_count": 41
        },
        {
          "output_type": "display_data",
          "data": {
            "image/png": "[encoded data removed]",
            "text/plain": [
              "<Figure size 648x648 with 2 Axes>"
            ]
          },
          "metadata": {
            "needs_background": "light"
          }
        }
      ],
      "source": [
        "y_pred=model.predict(x_test) \n",
        "\n",
        "y_pred=np.argmax(y_pred, axis=1)\n",
        "y_test_cm=np.argmax(y_test, axis=1)\n",
        "\n",
        "\n",
        "cm = confusion_matrix(y_test_cm, y_pred)\n",
        "labels=['negative' , 'positive']\n",
        "# Plot confusion matrix in a beautiful manner\n",
        "fig = plt.figure(figsize=(9, 9))\n",
        "ax= plt.subplot()\n",
        "sns.heatmap(cm, annot=True, ax = ax, fmt = 'g'); #annot=True to annotate cells\n",
        "# labels, title and ticks\n",
        "ax.set_xlabel('Predicted', fontsize=20)\n",
        "ax.xaxis.set_label_position('bottom')\n",
        "plt.xticks(rotation=90)\n",
        "ax.xaxis.set_ticklabels(labels, fontsize = 10)\n",
        "ax.xaxis.tick_bottom()\n",
        "\n",
        "ax.set_ylabel('True', fontsize=20)\n",
        "ax.yaxis.set_ticklabels(labels, fontsize = 10)\n",
        "plt.yticks(rotation=0)\n",
        "\n",
        "plt.title('Refined Confusion Matrix', fontsize=20)"
      ]
    },
    {
      "cell_type": "code",
      "source": [
        "print(classification_report(y_test_cm, y_pred))"
      ],
      "metadata": {
        "id": "Ismgga1Ni8Po",
        "colab": {
          "base_uri": "https://localhost:8080/"
        },
        "outputId": "1a8ca87b-3110-417d-f063-edd771b7521d"
      },
      "execution_count": null,
      "outputs": [
        {
          "output_type": "stream",
          "name": "stdout",
          "text": [
            "              precision    recall  f1-score   support\n",
            "\n",
            "           0       0.84      0.82      0.83       177\n",
            "           1       0.83      0.85      0.84       182\n",
            "\n",
            "    accuracy                           0.84       359\n",
            "   macro avg       0.84      0.84      0.84       359\n",
            "weighted avg       0.84      0.84      0.84       359\n",
            "\n"
          ]
        }
      ]
    },
    {
      "cell_type": "code",
      "source": [
        ""
      ],
      "metadata": {
        "id": "qU6Y6pM4lsrE"
      },
      "execution_count": null,
      "outputs": []
    },
    {
      "cell_type": "markdown",
      "source": [
        "# **c. Pyramid LSTM**"
      ],
      "metadata": {
        "id": "Lrg3_FsQSOiZ"
      }
    },
    {
      "cell_type": "markdown",
      "metadata": {
        "id": "Z0xElvvzkAvW"
      },
      "source": [
        "\n",
        "**Parameters and Hyper-Parameters**\n",
        "* \tBatch Size: 1024\n",
        "* \tEpochs: 20\n",
        "* \tNumber of Level:4\n",
        "*   Size of Hidden Layer: 64,32,16,8\n",
        "* \tHidden Layer Activation Function: ReLU\n",
        "* \tOutput Layer Activation Function: Softmax\n",
        "* \tLoss Function: Categorical_Crossentropy\n",
        "* \tOptimizer: ADAM\n",
        "* \tDropout: 0.2\n",
        "\n",
        "\n",
        "\n",
        "\n",
        "\n",
        "\n",
        "\n",
        "\n",
        "\n",
        "\n"
      ]
    },
    {
      "cell_type": "code",
      "source": [
        "class pBLSTM(tf.keras.layers.Layer):\n",
        "  def __init__(self, dim):\n",
        "    super(pBLSTM, self).__init__()\n",
        "    \n",
        "    self.dim        = dim\n",
        "    self.LSTM       = tf.keras.layers.LSTM(self.dim, return_sequences=True)\n",
        "    self.bidi_LSTM  = tf.keras.layers.Bidirectional(self.LSTM)\n",
        "    \n",
        "  @tf.function\n",
        "  def call(self, inputs):\n",
        "    y = self.bidi_LSTM(inputs) # (..., seq_len, 2*dim)\n",
        "    \n",
        "    if tf.shape(inputs)[1] % 2 == 1:\n",
        "      y = tf.keras.layers.ZeroPadding1D(padding=(0, 1))(y)\n",
        "\n",
        "    y = tf.keras.layers.Reshape(target_shape=(-1, int(self.dim*2)))(y) # (..., seq_len//2, 4*dim)\n",
        "    return y\n"
      ],
      "metadata": {
        "id": "I93skk8hSRrP"
      },
      "execution_count": null,
      "outputs": []
    },
    {
      "cell_type": "code",
      "source": [
        "def define_model_py():\n",
        "  embedding_layer = tf.keras.layers.Embedding(vocab_size,300,weights=[embedding_matrix],\n",
        "                                          input_length=30,trainable=False)\n",
        "  sequence_input = Input(shape=(30,), dtype='int32')\n",
        "  embedding_sequences = embedding_layer(sequence_input)\n",
        "  x = Dropout(0.2)(embedding_sequences)\n",
        "  x=pBLSTM(64)(x)\n",
        "  x=pBLSTM(32)(x)\n",
        "  x=pBLSTM(16)(x)\n",
        "  x=Bidirectional(LSTM(8))(x)\n",
        "  x = Dense(512, activation='relu')(x)\n",
        "  x = Dropout(0.5)(x)\n",
        "  outputs = Dense(2, activation='softmax')(x)\n",
        "  model=tf.keras.Model(sequence_input,outputs)\n",
        "  return model"
      ],
      "metadata": {
        "id": "4YWbzOYHZYOF"
      },
      "execution_count": null,
      "outputs": []
    },
    {
      "cell_type": "code",
      "source": [
        "model_py=define_model_py()"
      ],
      "metadata": {
        "id": "t5XPH6tjtVb_"
      },
      "execution_count": null,
      "outputs": []
    },
    {
      "cell_type": "code",
      "source": [
        "model_py.compile(optimizer='adam',loss='categorical_crossentropy',metrics=['accuracy'])"
      ],
      "metadata": {
        "id": "BjUqiu0cwxjy"
      },
      "execution_count": null,
      "outputs": []
    },
    {
      "cell_type": "code",
      "source": [
        "history_py= model_py.fit(x_train, y_train, batch_size=1024, epochs=20, validation_data=(x_valid, y_valid))"
      ],
      "metadata": {
        "id": "zBPECQvrvqxQ",
        "colab": {
          "base_uri": "https://localhost:8080/"
        },
        "outputId": "89d632b9-b739-4487-9035-148300aeaa3d"
      },
      "execution_count": null,
      "outputs": [
        {
          "output_type": "stream",
          "name": "stdout",
          "text": [
            "Epoch 1/20\n",
            "1250/1250 [==============================] - 204s 155ms/step - loss: 0.4872 - accuracy: 0.7621 - val_loss: 0.4562 - val_accuracy: 0.7823\n",
            "Epoch 2/20\n",
            "1250/1250 [==============================] - 193s 154ms/step - loss: 0.4550 - accuracy: 0.7837 - val_loss: 0.4464 - val_accuracy: 0.7889\n",
            "Epoch 3/20\n",
            "1250/1250 [==============================] - 192s 154ms/step - loss: 0.4434 - accuracy: 0.7902 - val_loss: 0.4395 - val_accuracy: 0.7933\n",
            "Epoch 4/20\n",
            "1250/1250 [==============================] - 193s 154ms/step - loss: 0.4353 - accuracy: 0.7950 - val_loss: 0.4340 - val_accuracy: 0.7960\n",
            "Epoch 5/20\n",
            "1250/1250 [==============================] - 192s 154ms/step - loss: 0.4298 - accuracy: 0.7985 - val_loss: 0.4334 - val_accuracy: 0.7980\n",
            "Epoch 6/20\n",
            "1250/1250 [==============================] - 193s 154ms/step - loss: 0.4242 - accuracy: 0.8016 - val_loss: 0.4342 - val_accuracy: 0.7977\n",
            "Epoch 7/20\n",
            "1250/1250 [==============================] - 193s 154ms/step - loss: 0.4201 - accuracy: 0.8038 - val_loss: 0.4334 - val_accuracy: 0.7982\n",
            "Epoch 8/20\n",
            "1250/1250 [==============================] - 193s 154ms/step - loss: 0.4166 - accuracy: 0.8055 - val_loss: 0.4313 - val_accuracy: 0.8002\n",
            "Epoch 9/20\n",
            "1250/1250 [==============================] - 193s 154ms/step - loss: 0.4131 - accuracy: 0.8077 - val_loss: 0.4321 - val_accuracy: 0.7981\n",
            "Epoch 10/20\n",
            "1250/1250 [==============================] - 193s 155ms/step - loss: 0.4103 - accuracy: 0.8091 - val_loss: 0.4296 - val_accuracy: 0.8001\n",
            "Epoch 11/20\n",
            "1250/1250 [==============================] - 193s 155ms/step - loss: 0.4077 - accuracy: 0.8109 - val_loss: 0.4291 - val_accuracy: 0.8006\n",
            "Epoch 12/20\n",
            "1250/1250 [==============================] - 193s 154ms/step - loss: 0.4051 - accuracy: 0.8121 - val_loss: 0.4277 - val_accuracy: 0.8011\n",
            "Epoch 13/20\n",
            "1250/1250 [==============================] - 193s 154ms/step - loss: 0.4026 - accuracy: 0.8135 - val_loss: 0.4282 - val_accuracy: 0.8010\n",
            "Epoch 14/20\n",
            "1250/1250 [==============================] - 193s 154ms/step - loss: 0.4009 - accuracy: 0.8146 - val_loss: 0.4270 - val_accuracy: 0.8006\n",
            "Epoch 15/20\n",
            "1250/1250 [==============================] - 193s 154ms/step - loss: 0.3988 - accuracy: 0.8156 - val_loss: 0.4275 - val_accuracy: 0.8004\n",
            "Epoch 16/20\n",
            "1250/1250 [==============================] - 192s 154ms/step - loss: 0.3968 - accuracy: 0.8165 - val_loss: 0.4296 - val_accuracy: 0.8008\n",
            "Epoch 17/20\n",
            "1250/1250 [==============================] - 192s 154ms/step - loss: 0.3953 - accuracy: 0.8173 - val_loss: 0.4282 - val_accuracy: 0.8008\n",
            "Epoch 18/20\n",
            "1250/1250 [==============================] - 192s 154ms/step - loss: 0.3939 - accuracy: 0.8182 - val_loss: 0.4267 - val_accuracy: 0.8005\n",
            "Epoch 19/20\n",
            "1250/1250 [==============================] - 192s 153ms/step - loss: 0.3925 - accuracy: 0.8189 - val_loss: 0.4290 - val_accuracy: 0.8006\n",
            "Epoch 20/20\n",
            "1250/1250 [==============================] - 192s 153ms/step - loss: 0.3905 - accuracy: 0.8200 - val_loss: 0.4312 - val_accuracy: 0.8004\n"
          ]
        }
      ]
    },
    {
      "cell_type": "code",
      "source": [
        "plothist(history_py)\n",
        "plothist_loss(history_py)"
      ],
      "metadata": {
        "id": "VPTjRkK1gsjv",
        "colab": {
          "base_uri": "https://localhost:8080/",
          "height": 573
        },
        "outputId": "30ff23cb-b827-449e-ff28-4d75417438a4"
      },
      "execution_count": null,
      "outputs": [
        {
          "output_type": "display_data",
          "data": {
            "image/png": "[encoded data removed]",
            "text/plain": [
              "<Figure size 432x288 with 1 Axes>"
            ]
          },
          "metadata": {
            "needs_background": "light"
          }
        },
        {
          "output_type": "display_data",
          "data": {
            "image/png": "[encoded data removed]",
            "text/plain": [
              "<Figure size 432x288 with 1 Axes>"
            ]
          },
          "metadata": {
            "needs_background": "light"
          }
        }
      ]
    },
    {
      "cell_type": "code",
      "source": [
        "y_pred=model_py.predict(x_test) \n",
        "\n",
        "y_pred=np.argmax(y_pred, axis=1)\n",
        "y_test_cm=np.argmax(y_test, axis=1)\n",
        "\n",
        "\n",
        "cm = confusion_matrix(y_test_cm, y_pred)\n",
        "labels=['negative' , 'positive']\n",
        "# Plot confusion matrix in a beautiful manner\n",
        "fig = plt.figure(figsize=(9, 9))\n",
        "ax= plt.subplot()\n",
        "sns.heatmap(cm, annot=True, ax = ax, fmt = 'g'); #annot=True to annotate cells\n",
        "# labels, title and ticks\n",
        "ax.set_xlabel('Predicted', fontsize=20)\n",
        "ax.xaxis.set_label_position('bottom')\n",
        "plt.xticks(rotation=90)\n",
        "ax.xaxis.set_ticklabels(labels, fontsize = 10)\n",
        "ax.xaxis.tick_bottom()\n",
        "\n",
        "ax.set_ylabel('True', fontsize=20)\n",
        "ax.yaxis.set_ticklabels(labels, fontsize = 10)\n",
        "plt.yticks(rotation=0)\n",
        "\n",
        "plt.title('Refined Confusion Matrix', fontsize=20)"
      ],
      "metadata": {
        "id": "tM63D2SZQvTu",
        "colab": {
          "base_uri": "https://localhost:8080/",
          "height": 632
        },
        "outputId": "3b50e886-4194-4347-80c7-e3dfd9d7132c"
      },
      "execution_count": null,
      "outputs": [
        {
          "output_type": "execute_result",
          "data": {
            "text/plain": [
              "Text(0.5, 1.0, 'Refined Confusion Matrix')"
            ]
          },
          "metadata": {},
          "execution_count": 49
        },
        {
          "output_type": "display_data",
          "data": {
            "image/png": "[encoded data removed]",
            "text/plain": [
              "<Figure size 648x648 with 2 Axes>"
            ]
          },
          "metadata": {
            "needs_background": "light"
          }
        }
      ]
    },
    {
      "cell_type": "code",
      "source": [
        "plt.plot(history.history['accuracy'],color='r',lw=2.0)\n",
        "plt.plot(history_bilstm.history['accuracy'],color='k',lw=2.0)\n",
        "plt.plot(history_py.history['accuracy'],color='b',lw=2.0)\n",
        "\n",
        "plt.title('accuracy _train')\n",
        "plt.ylabel('accuracy')\n",
        "plt.xlabel('epoch')\n",
        "plt.legend(['lstm', 'bilstm','pyramid'], loc='upper left')\n",
        "plt.grid()\n",
        "plt.show()\n",
        "\n",
        "plt.plot(history.history['val_accuracy'],color='r',lw=2.0)\n",
        "plt.plot(history_bilstm.history['val_accuracy'],color='k',lw=2.0)\n",
        "plt.plot(history_py.history['val_accuracy'],color='b',lw=2.0)\n",
        "\n",
        "plt.title('accuracy _val')\n",
        "plt.ylabel('accuracy')\n",
        "plt.xlabel('epoch')\n",
        "plt.legend(['lstm', 'bilstm','pyramid'], loc='upper left')\n",
        "plt.grid()\n",
        "plt.show()\n",
        "\n",
        "plt.plot(history.history['loss'],color='r',lw=2.0)\n",
        "plt.plot(history_bilstm.history['loss'],color='k',lw=2.0)\n",
        "plt.plot(history_py.history['loss'],color='b',lw=2.0)\n",
        "plt.title('loss_train')\n",
        "plt.ylabel('loss')\n",
        "plt.xlabel('epoch')\n",
        "plt.legend(['lstm', 'bilstm','pyramid'], loc='upper left')\n",
        "plt.grid()\n",
        "plt.show()\n",
        "\n",
        "plt.plot(history.history['val_loss'],color='r',lw=2.0)\n",
        "plt.plot(history_bilstm.history['val_loss'],color='k',lw=2.0)\n",
        "plt.plot(history_py.history['val_loss'],color='b',lw=2.0)\n",
        "plt.title('loss_val')\n",
        "plt.ylabel('loss')\n",
        "plt.xlabel('epoch')\n",
        "plt.legend(['lstm', 'bilstm','pyramid'], loc='upper left')\n",
        "plt.grid()\n",
        "plt.show()"
      ],
      "metadata": {
        "id": "Gxw1Dlewi0GF",
        "colab": {
          "base_uri": "https://localhost:8080/",
          "height": 1000
        },
        "outputId": "46b8efbe-f462-4104-9565-d86609114297"
      },
      "execution_count": null,
      "outputs": [
        {
          "output_type": "display_data",
          "data": {
            "image/png": "[encoded data removed]",
            "text/plain": [
              "<Figure size 432x288 with 1 Axes>"
            ]
          },
          "metadata": {
            "needs_background": "light"
          }
        },
        {
          "output_type": "display_data",
          "data": {
            "image/png": "[encoded data removed]",
            "text/plain": [
              "<Figure size 432x288 with 1 Axes>"
            ]
          },
          "metadata": {
            "needs_background": "light"
          }
        },
        {
          "output_type": "display_data",
          "data": {
            "image/png": "[encoded data removed]",
            "text/plain": [
              "<Figure size 432x288 with 1 Axes>"
            ]
          },
          "metadata": {
            "needs_background": "light"
          }
        },
        {
          "output_type": "display_data",
          "data": {
            "image/png": "[encoded data removed]",
            "text/plain": [
              "<Figure size 432x288 with 1 Axes>"
            ]
          },
          "metadata": {
            "needs_background": "light"
          }
        }
      ]
    },
    {
      "cell_type": "markdown",
      "source": [
        "# **d. BERT**"
      ],
      "metadata": {
        "id": "s17bO7kqSFsN"
      }
    },
    {
      "cell_type": "markdown",
      "metadata": {
        "id": "5IDYoQQzIM7x"
      },
      "source": [
        "## **Load RoBERTa**"
      ]
    },
    {
      "cell_type": "code",
      "metadata": {
        "id": "a-GlywkSFegL",
        "colab": {
          "base_uri": "https://localhost:8080/"
        },
        "outputId": "64d924de-2f3c-4f15-fb82-b800e3b37c5c"
      },
      "source": [
        "!pip install transformers"
      ],
      "execution_count": null,
      "outputs": [
        {
          "output_type": "stream",
          "name": "stdout",
          "text": [
            "Collecting transformers\n",
            "  Downloading transformers-4.12.5-py3-none-any.whl (3.1 MB)\n",
            "\u001b[K     |████████████████████████████████| 3.1 MB 4.7 MB/s \n",
            "\u001b[?25hCollecting sacremoses\n",
            "  Downloading sacremoses-0.0.46-py3-none-any.whl (895 kB)\n",
            "\u001b[K     |████████████████████████████████| 895 kB 37.1 MB/s \n",
            "\u001b[?25hRequirement already satisfied: tqdm>=4.27 in /usr/local/lib/python3.7/dist-packages (from transformers) (4.62.3)\n",
            "Requirement already satisfied: requests in /usr/local/lib/python3.7/dist-packages (from transformers) (2.23.0)\n",
            "Collecting pyyaml>=5.1\n",
            "  Downloading PyYAML-6.0-cp37-cp37m-manylinux_2_5_x86_64.manylinux1_x86_64.manylinux_2_12_x86_64.manylinux2010_x86_64.whl (596 kB)\n",
            "\u001b[K     |████████████████████████████████| 596 kB 46.7 MB/s \n",
            "\u001b[?25hRequirement already satisfied: importlib-metadata in /usr/local/lib/python3.7/dist-packages (from transformers) (4.8.2)\n",
            "Requirement already satisfied: filelock in /usr/local/lib/python3.7/dist-packages (from transformers) (3.4.0)\n",
            "Collecting tokenizers<0.11,>=0.10.1\n",
            "  Downloading tokenizers-0.10.3-cp37-cp37m-manylinux_2_5_x86_64.manylinux1_x86_64.manylinux_2_12_x86_64.manylinux2010_x86_64.whl (3.3 MB)\n",
            "\u001b[K     |████████████████████████████████| 3.3 MB 44.5 MB/s \n",
            "\u001b[?25hRequirement already satisfied: packaging>=20.0 in /usr/local/lib/python3.7/dist-packages (from transformers) (21.3)\n",
            "Requirement already satisfied: regex!=2019.12.17 in /usr/local/lib/python3.7/dist-packages (from transformers) (2019.12.20)\n",
            "Requirement already satisfied: numpy>=1.17 in /usr/local/lib/python3.7/dist-packages (from transformers) (1.19.5)\n",
            "Collecting huggingface-hub<1.0,>=0.1.0\n",
            "  Downloading huggingface_hub-0.1.2-py3-none-any.whl (59 kB)\n",
            "\u001b[K     |████████████████████████████████| 59 kB 6.7 MB/s \n",
            "\u001b[?25hRequirement already satisfied: typing-extensions>=3.7.4.3 in /usr/local/lib/python3.7/dist-packages (from huggingface-hub<1.0,>=0.1.0->transformers) (3.10.0.2)\n",
            "Requirement already satisfied: pyparsing!=3.0.5,>=2.0.2 in /usr/local/lib/python3.7/dist-packages (from packaging>=20.0->transformers) (3.0.6)\n",
            "Requirement already satisfied: zipp>=0.5 in /usr/local/lib/python3.7/dist-packages (from importlib-metadata->transformers) (3.6.0)\n",
            "Requirement already satisfied: certifi>=2017.4.17 in /usr/local/lib/python3.7/dist-packages (from requests->transformers) (2021.10.8)\n",
            "Requirement already satisfied: idna<3,>=2.5 in /usr/local/lib/python3.7/dist-packages (from requests->transformers) (2.10)\n",
            "Requirement already satisfied: urllib3!=1.25.0,!=1.25.1,<1.26,>=1.21.1 in /usr/local/lib/python3.7/dist-packages (from requests->transformers) (1.24.3)\n",
            "Requirement already satisfied: chardet<4,>=3.0.2 in /usr/local/lib/python3.7/dist-packages (from requests->transformers) (3.0.4)\n",
            "Requirement already satisfied: click in /usr/local/lib/python3.7/dist-packages (from sacremoses->transformers) (7.1.2)\n",
            "Requirement already satisfied: joblib in /usr/local/lib/python3.7/dist-packages (from sacremoses->transformers) (1.1.0)\n",
            "Requirement already satisfied: six in /usr/local/lib/python3.7/dist-packages (from sacremoses->transformers) (1.15.0)\n",
            "Installing collected packages: pyyaml, tokenizers, sacremoses, huggingface-hub, transformers\n",
            "  Attempting uninstall: pyyaml\n",
            "    Found existing installation: PyYAML 3.13\n",
            "    Uninstalling PyYAML-3.13:\n",
            "      Successfully uninstalled PyYAML-3.13\n",
            "Successfully installed huggingface-hub-0.1.2 pyyaml-6.0 sacremoses-0.0.46 tokenizers-0.10.3 transformers-4.12.5\n"
          ]
        }
      ]
    },
    {
      "cell_type": "code",
      "metadata": {
        "id": "LswVC_MP0jGR"
      },
      "source": [
        "# importing libraries for neural network\n",
        "import torch\n",
        "from transformers import RobertaModel"
      ],
      "execution_count": null,
      "outputs": []
    },
    {
      "cell_type": "code",
      "metadata": {
        "id": "HMqQTafXEaei"
      },
      "source": [
        "class RobertaClass(torch.nn.Module):\n",
        "    def __init__(self):\n",
        "        super(RobertaClass, self).__init__()\n",
        "        self.l1 = RobertaModel.from_pretrained(\"roberta-base\")\n",
        "        self.pre_classifier = torch.nn.Linear(768, 768)\n",
        "        self.classifier = torch.nn.Linear(768, 2)\n",
        "\n",
        "    def forward(self, input_ids, attention_mask, token_type_ids):\n",
        "        output_1 = self.l1(input_ids=input_ids, \n",
        "                           attention_mask=attention_mask, \n",
        "                           token_type_ids=token_type_ids)\n",
        "        hidden_state = output_1[0]\n",
        "        pooler = hidden_state[:, 0]\n",
        "        pooler = self.pre_classifier(pooler)\n",
        "        pooler = torch.nn.Tanh()(pooler)\n",
        "        output = self.classifier(pooler)\n",
        "        return output"
      ],
      "execution_count": null,
      "outputs": []
    },
    {
      "cell_type": "code",
      "metadata": {
        "id": "sZ55mIPZIkp_",
        "colab": {
          "base_uri": "https://localhost:8080/",
          "height": 1000,
          "referenced_widgets": [
            "3896cda6d6b7457d80ea6fe66e67a1fb",
            "97572e9b077846e180754748af21321e",
            "ec72368df5f147f39276f5c2f946e224",
            "0a069099a0554862840c0526e6a081b2",
            "a65ff47cf310446b81eebcab9bec54a8",
            "f506c42194e849d38c8a7d2eab7a82c9",
            "20531479bfd24a5ca5ae5ef84edfb8c0",
            "ff3293000c75435490fbc106fd9ce2c4",
            "660b3cf7b4d649b5bcb4dc8a69ef948e",
            "01006cab82334d4c9df1e664d06e1e79",
            "1e1249b70d2f4eb395d406835cdddd70",
            "49fb28c31cbd4b1c97b2840f8b6f9de2",
            "2f7f51ac42aa46fbaf616540b5660eb8",
            "fcc212a84b7b4422a4212fdc065d8bb6",
            "a38a5445e3064852be7a4605d1dc38aa",
            "94d7da4f5344468e9a098a99a2cfdcef",
            "6b6e20706b42498e8c5f843905cd9046",
            "cfb0ff39c39446f3b82d0f014138a76f",
            "8dd66e6c39e54e9da687744e722a5fc5",
            "5d861a46f5504d3ca3c5385ed6592f90",
            "f72c20e94ff14658a51337c08896b661",
            "176ef496e2de41c0b6258316c000b4fe"
          ]
        },
        "outputId": "a2df6542-e0f4-4150-80e0-4dd2b91537aa"
      },
      "source": [
        "model = RobertaClass()\n",
        "model.to(device)"
      ],
      "execution_count": null,
      "outputs": [
        {
          "output_type": "display_data",
          "data": {
            "application/vnd.jupyter.widget-view+json": {
              "model_id": "3896cda6d6b7457d80ea6fe66e67a1fb",
              "version_minor": 0,
              "version_major": 2
            },
            "text/plain": [
              "Downloading:   0%|          | 0.00/481 [00:00<?, ?B/s]"
            ]
          },
          "metadata": {}
        },
        {
          "output_type": "display_data",
          "data": {
            "application/vnd.jupyter.widget-view+json": {
              "model_id": "49fb28c31cbd4b1c97b2840f8b6f9de2",
              "version_minor": 0,
              "version_major": 2
            },
            "text/plain": [
              "Downloading:   0%|          | 0.00/478M [00:00<?, ?B/s]"
            ]
          },
          "metadata": {}
        },
        {
          "output_type": "stream",
          "name": "stderr",
          "text": [
            "Some weights of the model checkpoint at roberta-base were not used when initializing RobertaModel: ['lm_head.layer_norm.bias', 'lm_head.dense.bias', 'lm_head.dense.weight', 'lm_head.layer_norm.weight', 'lm_head.bias', 'lm_head.decoder.weight']\n",
            "- This IS expected if you are initializing RobertaModel from the checkpoint of a model trained on another task or with another architecture (e.g. initializing a BertForSequenceClassification model from a BertForPreTraining model).\n",
            "- This IS NOT expected if you are initializing RobertaModel from the checkpoint of a model that you expect to be exactly identical (initializing a BertForSequenceClassification model from a BertForSequenceClassification model).\n"
          ]
        },
        {
          "output_type": "execute_result",
          "data": {
            "text/plain": [
              "RobertaClass(\n",
              "  (l1): RobertaModel(\n",
              "    (embeddings): RobertaEmbeddings(\n",
              "      (word_embeddings): Embedding(50265, 768, padding_idx=1)\n",
              "      (position_embeddings): Embedding(514, 768, padding_idx=1)\n",
              "      (token_type_embeddings): Embedding(1, 768)\n",
              "      (LayerNorm): LayerNorm((768,), eps=1e-05, elementwise_affine=True)\n",
              "      (dropout): Dropout(p=0.1, inplace=False)\n",
              "    )\n",
              "    (encoder): RobertaEncoder(\n",
              "      (layer): ModuleList(\n",
              "        (0): RobertaLayer(\n",
              "          (attention): RobertaAttention(\n",
              "            (self): RobertaSelfAttention(\n",
              "              (query): Linear(in_features=768, out_features=768, bias=True)\n",
              "              (key): Linear(in_features=768, out_features=768, bias=True)\n",
              "              (value): Linear(in_features=768, out_features=768, bias=True)\n",
              "              (dropout): Dropout(p=0.1, inplace=False)\n",
              "            )\n",
              "            (output): RobertaSelfOutput(\n",
              "              (dense): Linear(in_features=768, out_features=768, bias=True)\n",
              "              (LayerNorm): LayerNorm((768,), eps=1e-05, elementwise_affine=True)\n",
              "              (dropout): Dropout(p=0.1, inplace=False)\n",
              "            )\n",
              "          )\n",
              "          (intermediate): RobertaIntermediate(\n",
              "            (dense): Linear(in_features=768, out_features=3072, bias=True)\n",
              "          )\n",
              "          (output): RobertaOutput(\n",
              "            (dense): Linear(in_features=3072, out_features=768, bias=True)\n",
              "            (LayerNorm): LayerNorm((768,), eps=1e-05, elementwise_affine=True)\n",
              "            (dropout): Dropout(p=0.1, inplace=False)\n",
              "          )\n",
              "        )\n",
              "        (1): RobertaLayer(\n",
              "          (attention): RobertaAttention(\n",
              "            (self): RobertaSelfAttention(\n",
              "              (query): Linear(in_features=768, out_features=768, bias=True)\n",
              "              (key): Linear(in_features=768, out_features=768, bias=True)\n",
              "              (value): Linear(in_features=768, out_features=768, bias=True)\n",
              "              (dropout): Dropout(p=0.1, inplace=False)\n",
              "            )\n",
              "            (output): RobertaSelfOutput(\n",
              "              (dense): Linear(in_features=768, out_features=768, bias=True)\n",
              "              (LayerNorm): LayerNorm((768,), eps=1e-05, elementwise_affine=True)\n",
              "              (dropout): Dropout(p=0.1, inplace=False)\n",
              "            )\n",
              "          )\n",
              "          (intermediate): RobertaIntermediate(\n",
              "            (dense): Linear(in_features=768, out_features=3072, bias=True)\n",
              "          )\n",
              "          (output): RobertaOutput(\n",
              "            (dense): Linear(in_features=3072, out_features=768, bias=True)\n",
              "            (LayerNorm): LayerNorm((768,), eps=1e-05, elementwise_affine=True)\n",
              "            (dropout): Dropout(p=0.1, inplace=False)\n",
              "          )\n",
              "        )\n",
              "        (2): RobertaLayer(\n",
              "          (attention): RobertaAttention(\n",
              "            (self): RobertaSelfAttention(\n",
              "              (query): Linear(in_features=768, out_features=768, bias=True)\n",
              "              (key): Linear(in_features=768, out_features=768, bias=True)\n",
              "              (value): Linear(in_features=768, out_features=768, bias=True)\n",
              "              (dropout): Dropout(p=0.1, inplace=False)\n",
              "            )\n",
              "            (output): RobertaSelfOutput(\n",
              "              (dense): Linear(in_features=768, out_features=768, bias=True)\n",
              "              (LayerNorm): LayerNorm((768,), eps=1e-05, elementwise_affine=True)\n",
              "              (dropout): Dropout(p=0.1, inplace=False)\n",
              "            )\n",
              "          )\n",
              "          (intermediate): RobertaIntermediate(\n",
              "            (dense): Linear(in_features=768, out_features=3072, bias=True)\n",
              "          )\n",
              "          (output): RobertaOutput(\n",
              "            (dense): Linear(in_features=3072, out_features=768, bias=True)\n",
              "            (LayerNorm): LayerNorm((768,), eps=1e-05, elementwise_affine=True)\n",
              "            (dropout): Dropout(p=0.1, inplace=False)\n",
              "          )\n",
              "        )\n",
              "        (3): RobertaLayer(\n",
              "          (attention): RobertaAttention(\n",
              "            (self): RobertaSelfAttention(\n",
              "              (query): Linear(in_features=768, out_features=768, bias=True)\n",
              "              (key): Linear(in_features=768, out_features=768, bias=True)\n",
              "              (value): Linear(in_features=768, out_features=768, bias=True)\n",
              "              (dropout): Dropout(p=0.1, inplace=False)\n",
              "            )\n",
              "            (output): RobertaSelfOutput(\n",
              "              (dense): Linear(in_features=768, out_features=768, bias=True)\n",
              "              (LayerNorm): LayerNorm((768,), eps=1e-05, elementwise_affine=True)\n",
              "              (dropout): Dropout(p=0.1, inplace=False)\n",
              "            )\n",
              "          )\n",
              "          (intermediate): RobertaIntermediate(\n",
              "            (dense): Linear(in_features=768, out_features=3072, bias=True)\n",
              "          )\n",
              "          (output): RobertaOutput(\n",
              "            (dense): Linear(in_features=3072, out_features=768, bias=True)\n",
              "            (LayerNorm): LayerNorm((768,), eps=1e-05, elementwise_affine=True)\n",
              "            (dropout): Dropout(p=0.1, inplace=False)\n",
              "          )\n",
              "        )\n",
              "        (4): RobertaLayer(\n",
              "          (attention): RobertaAttention(\n",
              "            (self): RobertaSelfAttention(\n",
              "              (query): Linear(in_features=768, out_features=768, bias=True)\n",
              "              (key): Linear(in_features=768, out_features=768, bias=True)\n",
              "              (value): Linear(in_features=768, out_features=768, bias=True)\n",
              "              (dropout): Dropout(p=0.1, inplace=False)\n",
              "            )\n",
              "            (output): RobertaSelfOutput(\n",
              "              (dense): Linear(in_features=768, out_features=768, bias=True)\n",
              "              (LayerNorm): LayerNorm((768,), eps=1e-05, elementwise_affine=True)\n",
              "              (dropout): Dropout(p=0.1, inplace=False)\n",
              "            )\n",
              "          )\n",
              "          (intermediate): RobertaIntermediate(\n",
              "            (dense): Linear(in_features=768, out_features=3072, bias=True)\n",
              "          )\n",
              "          (output): RobertaOutput(\n",
              "            (dense): Linear(in_features=3072, out_features=768, bias=True)\n",
              "            (LayerNorm): LayerNorm((768,), eps=1e-05, elementwise_affine=True)\n",
              "            (dropout): Dropout(p=0.1, inplace=False)\n",
              "          )\n",
              "        )\n",
              "        (5): RobertaLayer(\n",
              "          (attention): RobertaAttention(\n",
              "            (self): RobertaSelfAttention(\n",
              "              (query): Linear(in_features=768, out_features=768, bias=True)\n",
              "              (key): Linear(in_features=768, out_features=768, bias=True)\n",
              "              (value): Linear(in_features=768, out_features=768, bias=True)\n",
              "              (dropout): Dropout(p=0.1, inplace=False)\n",
              "            )\n",
              "            (output): RobertaSelfOutput(\n",
              "              (dense): Linear(in_features=768, out_features=768, bias=True)\n",
              "              (LayerNorm): LayerNorm((768,), eps=1e-05, elementwise_affine=True)\n",
              "              (dropout): Dropout(p=0.1, inplace=False)\n",
              "            )\n",
              "          )\n",
              "          (intermediate): RobertaIntermediate(\n",
              "            (dense): Linear(in_features=768, out_features=3072, bias=True)\n",
              "          )\n",
              "          (output): RobertaOutput(\n",
              "            (dense): Linear(in_features=3072, out_features=768, bias=True)\n",
              "            (LayerNorm): LayerNorm((768,), eps=1e-05, elementwise_affine=True)\n",
              "            (dropout): Dropout(p=0.1, inplace=False)\n",
              "          )\n",
              "        )\n",
              "        (6): RobertaLayer(\n",
              "          (attention): RobertaAttention(\n",
              "            (self): RobertaSelfAttention(\n",
              "              (query): Linear(in_features=768, out_features=768, bias=True)\n",
              "              (key): Linear(in_features=768, out_features=768, bias=True)\n",
              "              (value): Linear(in_features=768, out_features=768, bias=True)\n",
              "              (dropout): Dropout(p=0.1, inplace=False)\n",
              "            )\n",
              "            (output): RobertaSelfOutput(\n",
              "              (dense): Linear(in_features=768, out_features=768, bias=True)\n",
              "              (LayerNorm): LayerNorm((768,), eps=1e-05, elementwise_affine=True)\n",
              "              (dropout): Dropout(p=0.1, inplace=False)\n",
              "            )\n",
              "          )\n",
              "          (intermediate): RobertaIntermediate(\n",
              "            (dense): Linear(in_features=768, out_features=3072, bias=True)\n",
              "          )\n",
              "          (output): RobertaOutput(\n",
              "            (dense): Linear(in_features=3072, out_features=768, bias=True)\n",
              "            (LayerNorm): LayerNorm((768,), eps=1e-05, elementwise_affine=True)\n",
              "            (dropout): Dropout(p=0.1, inplace=False)\n",
              "          )\n",
              "        )\n",
              "        (7): RobertaLayer(\n",
              "          (attention): RobertaAttention(\n",
              "            (self): RobertaSelfAttention(\n",
              "              (query): Linear(in_features=768, out_features=768, bias=True)\n",
              "              (key): Linear(in_features=768, out_features=768, bias=True)\n",
              "              (value): Linear(in_features=768, out_features=768, bias=True)\n",
              "              (dropout): Dropout(p=0.1, inplace=False)\n",
              "            )\n",
              "            (output): RobertaSelfOutput(\n",
              "              (dense): Linear(in_features=768, out_features=768, bias=True)\n",
              "              (LayerNorm): LayerNorm((768,), eps=1e-05, elementwise_affine=True)\n",
              "              (dropout): Dropout(p=0.1, inplace=False)\n",
              "            )\n",
              "          )\n",
              "          (intermediate): RobertaIntermediate(\n",
              "            (dense): Linear(in_features=768, out_features=3072, bias=True)\n",
              "          )\n",
              "          (output): RobertaOutput(\n",
              "            (dense): Linear(in_features=3072, out_features=768, bias=True)\n",
              "            (LayerNorm): LayerNorm((768,), eps=1e-05, elementwise_affine=True)\n",
              "            (dropout): Dropout(p=0.1, inplace=False)\n",
              "          )\n",
              "        )\n",
              "        (8): RobertaLayer(\n",
              "          (attention): RobertaAttention(\n",
              "            (self): RobertaSelfAttention(\n",
              "              (query): Linear(in_features=768, out_features=768, bias=True)\n",
              "              (key): Linear(in_features=768, out_features=768, bias=True)\n",
              "              (value): Linear(in_features=768, out_features=768, bias=True)\n",
              "              (dropout): Dropout(p=0.1, inplace=False)\n",
              "            )\n",
              "            (output): RobertaSelfOutput(\n",
              "              (dense): Linear(in_features=768, out_features=768, bias=True)\n",
              "              (LayerNorm): LayerNorm((768,), eps=1e-05, elementwise_affine=True)\n",
              "              (dropout): Dropout(p=0.1, inplace=False)\n",
              "            )\n",
              "          )\n",
              "          (intermediate): RobertaIntermediate(\n",
              "            (dense): Linear(in_features=768, out_features=3072, bias=True)\n",
              "          )\n",
              "          (output): RobertaOutput(\n",
              "            (dense): Linear(in_features=3072, out_features=768, bias=True)\n",
              "            (LayerNorm): LayerNorm((768,), eps=1e-05, elementwise_affine=True)\n",
              "            (dropout): Dropout(p=0.1, inplace=False)\n",
              "          )\n",
              "        )\n",
              "        (9): RobertaLayer(\n",
              "          (attention): RobertaAttention(\n",
              "            (self): RobertaSelfAttention(\n",
              "              (query): Linear(in_features=768, out_features=768, bias=True)\n",
              "              (key): Linear(in_features=768, out_features=768, bias=True)\n",
              "              (value): Linear(in_features=768, out_features=768, bias=True)\n",
              "              (dropout): Dropout(p=0.1, inplace=False)\n",
              "            )\n",
              "            (output): RobertaSelfOutput(\n",
              "              (dense): Linear(in_features=768, out_features=768, bias=True)\n",
              "              (LayerNorm): LayerNorm((768,), eps=1e-05, elementwise_affine=True)\n",
              "              (dropout): Dropout(p=0.1, inplace=False)\n",
              "            )\n",
              "          )\n",
              "          (intermediate): RobertaIntermediate(\n",
              "            (dense): Linear(in_features=768, out_features=3072, bias=True)\n",
              "          )\n",
              "          (output): RobertaOutput(\n",
              "            (dense): Linear(in_features=3072, out_features=768, bias=True)\n",
              "            (LayerNorm): LayerNorm((768,), eps=1e-05, elementwise_affine=True)\n",
              "            (dropout): Dropout(p=0.1, inplace=False)\n",
              "          )\n",
              "        )\n",
              "        (10): RobertaLayer(\n",
              "          (attention): RobertaAttention(\n",
              "            (self): RobertaSelfAttention(\n",
              "              (query): Linear(in_features=768, out_features=768, bias=True)\n",
              "              (key): Linear(in_features=768, out_features=768, bias=True)\n",
              "              (value): Linear(in_features=768, out_features=768, bias=True)\n",
              "              (dropout): Dropout(p=0.1, inplace=False)\n",
              "            )\n",
              "            (output): RobertaSelfOutput(\n",
              "              (dense): Linear(in_features=768, out_features=768, bias=True)\n",
              "              (LayerNorm): LayerNorm((768,), eps=1e-05, elementwise_affine=True)\n",
              "              (dropout): Dropout(p=0.1, inplace=False)\n",
              "            )\n",
              "          )\n",
              "          (intermediate): RobertaIntermediate(\n",
              "            (dense): Linear(in_features=768, out_features=3072, bias=True)\n",
              "          )\n",
              "          (output): RobertaOutput(\n",
              "            (dense): Linear(in_features=3072, out_features=768, bias=True)\n",
              "            (LayerNorm): LayerNorm((768,), eps=1e-05, elementwise_affine=True)\n",
              "            (dropout): Dropout(p=0.1, inplace=False)\n",
              "          )\n",
              "        )\n",
              "        (11): RobertaLayer(\n",
              "          (attention): RobertaAttention(\n",
              "            (self): RobertaSelfAttention(\n",
              "              (query): Linear(in_features=768, out_features=768, bias=True)\n",
              "              (key): Linear(in_features=768, out_features=768, bias=True)\n",
              "              (value): Linear(in_features=768, out_features=768, bias=True)\n",
              "              (dropout): Dropout(p=0.1, inplace=False)\n",
              "            )\n",
              "            (output): RobertaSelfOutput(\n",
              "              (dense): Linear(in_features=768, out_features=768, bias=True)\n",
              "              (LayerNorm): LayerNorm((768,), eps=1e-05, elementwise_affine=True)\n",
              "              (dropout): Dropout(p=0.1, inplace=False)\n",
              "            )\n",
              "          )\n",
              "          (intermediate): RobertaIntermediate(\n",
              "            (dense): Linear(in_features=768, out_features=3072, bias=True)\n",
              "          )\n",
              "          (output): RobertaOutput(\n",
              "            (dense): Linear(in_features=3072, out_features=768, bias=True)\n",
              "            (LayerNorm): LayerNorm((768,), eps=1e-05, elementwise_affine=True)\n",
              "            (dropout): Dropout(p=0.1, inplace=False)\n",
              "          )\n",
              "        )\n",
              "      )\n",
              "    )\n",
              "    (pooler): RobertaPooler(\n",
              "      (dense): Linear(in_features=768, out_features=768, bias=True)\n",
              "      (activation): Tanh()\n",
              "    )\n",
              "  )\n",
              "  (pre_classifier): Linear(in_features=768, out_features=768, bias=True)\n",
              "  (classifier): Linear(in_features=768, out_features=2, bias=True)\n",
              ")"
            ]
          },
          "metadata": {},
          "execution_count": 5
        }
      ]
    },
    {
      "cell_type": "markdown",
      "metadata": {
        "id": "8Fy0Y4D1Ielv"
      },
      "source": [
        "## **Load data**"
      ]
    },
    {
      "cell_type": "code",
      "metadata": {
        "id": "47vSkN8oOxe5",
        "colab": {
          "base_uri": "https://localhost:8080/"
        },
        "outputId": "31aa4501-5eb6-4921-f9d0-659f88e9f26f"
      },
      "source": [
        "from google.colab import drive\n",
        "# connect with your google drive\n",
        "drive.mount('/content/drive') "
      ],
      "execution_count": null,
      "outputs": [
        {
          "output_type": "stream",
          "name": "stdout",
          "text": [
            "Mounted at /content/drive\n"
          ]
        }
      ]
    },
    {
      "cell_type": "code",
      "metadata": {
        "id": "GEtqId_65Szq"
      },
      "source": [
        "import pandas as pd\n",
        "# paste your path to the dataset\n",
        "!cp '/content/drive/MyDrive/Colab Notebooks/BroutonLab/Article/dataset.zip' dataset.zip"
      ],
      "execution_count": null,
      "outputs": []
    },
    {
      "cell_type": "code",
      "metadata": {
        "id": "MOaRLS9H-UL4"
      },
      "source": [
        "# unzip files from archive\n",
        "import zipfile\n",
        "with zipfile.ZipFile(\"dataset.zip\", 'r') as zip_ref:\n",
        "    zip_ref.extractall(\"./\")"
      ],
      "execution_count": null,
      "outputs": []
    },
    {
      "cell_type": "markdown",
      "metadata": {
        "id": "S1K15rQ9IYLE"
      },
      "source": [
        "## **Prepare data**"
      ]
    },
    {
      "cell_type": "code",
      "metadata": {
        "id": "-JgxY-5nhZep"
      },
      "source": [
        "# drop unnecessary columns and rename the remaining ones\n",
        "full_data = pd.read_csv('/content/training.1600000.processed.noemoticon.csv', \n",
        "                        encoding='latin-1').drop([\"1467810369\",\n",
        "                                                  \"Mon Apr 06 22:19:45 PDT 2009\",\n",
        "                                                  \"NO_QUERY\",\"_TheSpecialOne_\"],\n",
        "                                                 axis=1).dropna()\n",
        "columns_names = list(full_data)\n",
        "full_data.rename(columns={columns_names[0]:\"label\",\n",
        "                        columns_names[1]:\"text\"}, inplace= True)"
      ],
      "execution_count": null,
      "outputs": []
    },
    {
      "cell_type": "code",
      "metadata": {
        "id": "bDR623fdVlcr"
      },
      "source": [
        "NUM_SAMPLES = 30000\n",
        "# separate the positive and negative tweets and take NUM_SAMPLES from them\n",
        "negative_samples = full_data[full_data[\"label\"]==0][:NUM_SAMPLES]\n",
        "positiv_samples = full_data[full_data[\"label\"]==4][:NUM_SAMPLES]"
      ],
      "execution_count": null,
      "outputs": []
    },
    {
      "cell_type": "code",
      "metadata": {
        "id": "Cm2Q606TX8T3"
      },
      "source": [
        "# replace label 4 with label 1 because the neural network outputs only 0 or 1\n",
        "positiv_samples[\"label\"]=[1]*NUM_SAMPLES"
      ],
      "execution_count": null,
      "outputs": []
    },
    {
      "cell_type": "code",
      "metadata": {
        "id": "2nYxpgtae7iQ"
      },
      "source": [
        "# concat back to one dataset\n",
        "full_data = pd.concat([negative_samples,  positiv_samples])"
      ],
      "execution_count": null,
      "outputs": []
    },
    {
      "cell_type": "code",
      "metadata": {
        "id": "TFIoIjucGjJw",
        "colab": {
          "base_uri": "https://localhost:8080/",
          "height": 826
        },
        "outputId": "a039e4be-4ed9-476c-cf68-fd994320740b"
      },
      "source": [
        "full_data"
      ],
      "execution_count": null,
      "outputs": [
        {
          "output_type": "execute_result",
          "data": {
            "text/html": [
              "<div>\n",
              "<style scoped>\n",
              "    .dataframe tbody tr th:only-of-type {\n",
              "        vertical-align: middle;\n",
              "    }\n",
              "\n",
              "    .dataframe tbody tr th {\n",
              "        vertical-align: top;\n",
              "    }\n",
              "\n",
              "    .dataframe thead th {\n",
              "        text-align: right;\n",
              "    }\n",
              "</style>\n",
              "<table border=\"1\" class=\"dataframe\">\n",
              "  <thead>\n",
              "    <tr style=\"text-align: right;\">\n",
              "      <th></th>\n",
              "      <th>label</th>\n",
              "      <th>text</th>\n",
              "    </tr>\n",
              "  </thead>\n",
              "  <tbody>\n",
              "    <tr>\n",
              "      <th>0</th>\n",
              "      <td>0</td>\n",
              "      <td>is upset that he can't update his Facebook by ...</td>\n",
              "    </tr>\n",
              "    <tr>\n",
              "      <th>1</th>\n",
              "      <td>0</td>\n",
              "      <td>@Kenichan I dived many times for the ball. Man...</td>\n",
              "    </tr>\n",
              "    <tr>\n",
              "      <th>2</th>\n",
              "      <td>0</td>\n",
              "      <td>my whole body feels itchy and like its on fire</td>\n",
              "    </tr>\n",
              "    <tr>\n",
              "      <th>3</th>\n",
              "      <td>0</td>\n",
              "      <td>@nationwideclass no, it's not behaving at all....</td>\n",
              "    </tr>\n",
              "    <tr>\n",
              "      <th>4</th>\n",
              "      <td>0</td>\n",
              "      <td>@Kwesidei not the whole crew</td>\n",
              "    </tr>\n",
              "    <tr>\n",
              "      <th>...</th>\n",
              "      <td>...</td>\n",
              "      <td>...</td>\n",
              "    </tr>\n",
              "    <tr>\n",
              "      <th>829994</th>\n",
              "      <td>1</td>\n",
              "      <td>Really wants to go and see 17 again, because Z...</td>\n",
              "    </tr>\n",
              "    <tr>\n",
              "      <th>829995</th>\n",
              "      <td>1</td>\n",
              "      <td>@krissa22 Thank you!</td>\n",
              "    </tr>\n",
              "    <tr>\n",
              "      <th>829996</th>\n",
              "      <td>1</td>\n",
              "      <td>dreaming of you</td>\n",
              "    </tr>\n",
              "    <tr>\n",
              "      <th>829997</th>\n",
              "      <td>1</td>\n",
              "      <td>@TheEllenShow I saw a clip online!  good show!</td>\n",
              "    </tr>\n",
              "    <tr>\n",
              "      <th>829998</th>\n",
              "      <td>1</td>\n",
              "      <td>@msdivineknight k hun, no worries!  xx</td>\n",
              "    </tr>\n",
              "  </tbody>\n",
              "</table>\n",
              "<p>60000 rows × 2 columns</p>\n",
              "</div>"
            ],
            "text/plain": [
              "        label                                               text\n",
              "0           0  is upset that he can't update his Facebook by ...\n",
              "1           0  @Kenichan I dived many times for the ball. Man...\n",
              "2           0    my whole body feels itchy and like its on fire \n",
              "3           0  @nationwideclass no, it's not behaving at all....\n",
              "4           0                      @Kwesidei not the whole crew \n",
              "...       ...                                                ...\n",
              "829994      1  Really wants to go and see 17 again, because Z...\n",
              "829995      1                              @krissa22 Thank you! \n",
              "829996      1                                   dreaming of you \n",
              "829997      1     @TheEllenShow I saw a clip online!  good show!\n",
              "829998      1             @msdivineknight k hun, no worries!  xx\n",
              "\n",
              "[60000 rows x 2 columns]"
            ]
          },
          "metadata": {},
          "execution_count": 14
        }
      ]
    },
    {
      "cell_type": "code",
      "metadata": {
        "id": "7Gpe9D1QHoCd",
        "colab": {
          "base_uri": "https://localhost:8080/"
        },
        "outputId": "bc6321d2-e358-411a-dd2c-b3b99a40ee01"
      },
      "source": [
        "from sklearn.model_selection import train_test_split\n",
        "train_data, test_data = train_test_split(full_data, test_size=0.3)\n",
        "train_data = train_data.reset_index(drop=True)\n",
        "test_data = test_data.reset_index(drop=True)\n",
        "\n",
        "# information about dataset\n",
        "print(\"FULL Dataset: {}\".format(full_data.shape))\n",
        "print(\"TRAIN Dataset: {}\".format(train_data.shape))\n",
        "print(\"TEST Dataset: {}\".format(test_data.shape))\n",
        "\n"
      ],
      "execution_count": null,
      "outputs": [
        {
          "output_type": "stream",
          "name": "stdout",
          "text": [
            "FULL Dataset: (60000, 2)\n",
            "TRAIN Dataset: (42000, 2)\n",
            "TEST Dataset: (18000, 2)\n"
          ]
        }
      ]
    },
    {
      "cell_type": "code",
      "metadata": {
        "id": "GIdYgVlm3q3i"
      },
      "source": [
        "from transformers import RobertaTokenizer"
      ],
      "execution_count": null,
      "outputs": []
    },
    {
      "cell_type": "code",
      "metadata": {
        "id": "inlfpyn74EzS",
        "colab": {
          "base_uri": "https://localhost:8080/",
          "height": 301,
          "referenced_widgets": [
            "d0de2f1745e2409abb887a0ce787568d",
            "6b8cdbbb58fd4721aebde7858a40f0c0",
            "0b217bad3ff44500bbca2019d8ad31e5",
            "35aff1581575437cb138561a1c9067bc",
            "2928cd0fa14f4dde803d2602f6b5028f",
            "8f7f65c6110d4dab89283214ff4deb02",
            "d4982c2d6fd94c1cbd7ff04b55d59e09",
            "c8abb5227b7d45bbbf558ec5d654fb6f",
            "2487b8e9ab4442309bff70cd9bf64461",
            "9c1a9f413af14deeb228dacf85ee0489",
            "fe7c195074ca46dc94f405b16acabab2",
            "12da12b458164b01a2c8a4f1deea4a29",
            "723a4185371048f3ab0422940e39b266",
            "28f2321b13324ac69a5d4ae4280b9d9c",
            "faaad6dcdd53441cb171fc2d774e046e",
            "fbb944522bb1410b9a53b0f02f10f7a6",
            "75036392f930405eba2cf08bf0e6672c",
            "03756e7e1b6d4b6b8eddbcaedbb4bbbe",
            "ef19054376a14a239f88560d92a32d5f",
            "49a225f74a9d4d929d689b7a37b81b32",
            "cebcce3370ce4871a4321eea83151ef7",
            "c531ff7a786a4ef5a7e7c9d7790c63c8",
            "b19f697d002e488896112868532e39e0",
            "b6c2c35a94ad4f17951ab2d6b4c58040",
            "88f302cb6212458a9cdfb574fe0dea32",
            "d1348b8f28cc46f5877cbfc4ef0d6320",
            "2651cfc552d7462488b4bbb74123c781",
            "4ab85812826e41e9b30b6da1b3136356",
            "4ebf02a5c8f4466ab57cbb7edcdca105",
            "ecc4889134b34b879442e71bad0486b3",
            "5508a034c17346749b8ccf787b7d80a8",
            "50f8e9e749f64b00a40b9c6fae3fe5a4",
            "552c40f899f9440c9229d4d53cccc7ea"
          ]
        },
        "outputId": "02e7406d-4953-46a6-bac6-8e15da7d3066"
      },
      "source": [
        "tokenizer = RobertaTokenizer.from_pretrained('roberta-base', \n",
        "                                             truncation=True, \n",
        "                                             do_lower_case=True)"
      ],
      "execution_count": null,
      "outputs": [
        {
          "output_type": "display_data",
          "data": {
            "application/vnd.jupyter.widget-view+json": {
              "model_id": "d0de2f1745e2409abb887a0ce787568d",
              "version_minor": 0,
              "version_major": 2
            },
            "text/plain": [
              "Downloading:   0%|          | 0.00/878k [00:00<?, ?B/s]"
            ]
          },
          "metadata": {}
        },
        {
          "output_type": "display_data",
          "data": {
            "application/vnd.jupyter.widget-view+json": {
              "model_id": "12da12b458164b01a2c8a4f1deea4a29",
              "version_minor": 0,
              "version_major": 2
            },
            "text/plain": [
              "Downloading:   0%|          | 0.00/446k [00:00<?, ?B/s]"
            ]
          },
          "metadata": {}
        },
        {
          "output_type": "display_data",
          "data": {
            "application/vnd.jupyter.widget-view+json": {
              "model_id": "b19f697d002e488896112868532e39e0",
              "version_minor": 0,
              "version_major": 2
            },
            "text/plain": [
              "Downloading:   0%|          | 0.00/1.29M [00:00<?, ?B/s]"
            ]
          },
          "metadata": {}
        }
      ]
    },
    {
      "cell_type": "code",
      "metadata": {
        "id": "ibLfIoIp1wEh",
        "colab": {
          "base_uri": "https://localhost:8080/"
        },
        "outputId": "8424c428-85c1-4f75-9f00-b5ca80705231"
      },
      "source": [
        "MAX_LEN = 130\n",
        "train_tokenized_data = [tokenizer.encode_plus(\n",
        "            text,\n",
        "            None,\n",
        "            add_special_tokens=True,\n",
        "            max_length=MAX_LEN,\n",
        "            pad_to_max_length=True,\n",
        "            return_token_type_ids=True,\n",
        "            truncation=True\n",
        "        )\n",
        "        for text in train_data['text']]\n",
        "test_tokenized_data = [tokenizer.encode_plus(\n",
        "            text,\n",
        "            None,\n",
        "            add_special_tokens=True,\n",
        "            max_length=MAX_LEN,\n",
        "            pad_to_max_length=True,\n",
        "            return_token_type_ids=True,\n",
        "            truncation=True\n",
        "        )\n",
        "        for text in test_data['text']]\n"
      ],
      "execution_count": null,
      "outputs": [
        {
          "output_type": "stream",
          "name": "stderr",
          "text": [
            "/usr/local/lib/python3.7/dist-packages/transformers/tokenization_utils_base.py:2218: FutureWarning: The `pad_to_max_length` argument is deprecated and will be removed in a future version, use `padding=True` or `padding='longest'` to pad to the longest sequence in the batch, or use `padding='max_length'` to pad to a max length. In this case, you can give a specific length with `max_length` (e.g. `max_length=45`) or leave max_length to None to pad to the maximal input size of the model (e.g. 512 for Bert).\n",
            "  FutureWarning,\n"
          ]
        }
      ]
    },
    {
      "cell_type": "markdown",
      "metadata": {
        "id": "ITEmMMbJTxlg"
      },
      "source": [
        "## **Prepare dataset**"
      ]
    },
    {
      "cell_type": "code",
      "metadata": {
        "id": "nvXxpfNCGER2"
      },
      "source": [
        "TRAIN_BATCH_SIZE = 32\n",
        "TEST_BATCH_SIZE = 32      \n",
        "LEARNING_RATE = 1e-05"
      ],
      "execution_count": null,
      "outputs": []
    },
    {
      "cell_type": "code",
      "metadata": {
        "id": "3vWRDemOGxJD"
      },
      "source": [
        "from torch.utils.data import Dataset, DataLoader\n",
        "\n",
        "class SentimentData(Dataset):\n",
        "    def __init__(self, data, inputs_tokenized):\n",
        "        self.inputs = inputs_tokenized\n",
        "        self.text = data['text']\n",
        "        self.targets = data['label']\n",
        "\n",
        "    def __len__(self):\n",
        "        return len(self.text)\n",
        "\n",
        "    def __getitem__(self, index):\n",
        "        text = str(self.text[index])\n",
        "        text = \" \".join(text.split())\n",
        "        \n",
        "        input = self.inputs[index]\n",
        "        ids = input['input_ids']\n",
        "        mask = input['attention_mask']\n",
        "        token_type_ids = input['token_type_ids']\n",
        "\n",
        "        return {\n",
        "            'sentence': text,\n",
        "            'ids': torch.tensor(ids, dtype=torch.long),\n",
        "            'mask': torch.tensor(mask, dtype=torch.long),\n",
        "            'token_type_ids': torch.tensor(token_type_ids, dtype=torch.long),\n",
        "            'targets': torch.tensor(self.targets[index], dtype=torch.float)\n",
        "        }\n",
        "\n",
        "train_dataset = SentimentData(train_data, train_tokenized_data)\n",
        "test_dataset = SentimentData(test_data, test_tokenized_data)"
      ],
      "execution_count": null,
      "outputs": []
    },
    {
      "cell_type": "code",
      "metadata": {
        "id": "c1tInLk2Eadt"
      },
      "source": [
        "train_params = {'batch_size': TRAIN_BATCH_SIZE,\n",
        "                'shuffle': True\n",
        "                }\n",
        "\n",
        "test_params = {'batch_size': TEST_BATCH_SIZE,\n",
        "                'shuffle': True\n",
        "                }\n",
        "\n",
        "train_loader = DataLoader(train_dataset, **train_params)\n",
        "test_loader = DataLoader(test_dataset, **test_params)"
      ],
      "execution_count": null,
      "outputs": []
    },
    {
      "cell_type": "markdown",
      "metadata": {
        "id": "Z0w9kXo5IEuL"
      },
      "source": [
        "## **Fine-tuning model**"
      ]
    },
    {
      "cell_type": "code",
      "metadata": {
        "id": "XYZ7YuJ5InOS"
      },
      "source": [
        "loss_function = torch.nn.CrossEntropyLoss()\n",
        "optimizer = torch.optim.Adam(params =  model.parameters(), lr=LEARNING_RATE)"
      ],
      "execution_count": null,
      "outputs": []
    },
    {
      "cell_type": "code",
      "metadata": {
        "id": "mhqvtY2SIup7"
      },
      "source": [
        "from tqdm import tqdm\n",
        "import matplotlib.pyplot as plt\n",
        "from IPython.display import clear_output\n",
        "\n",
        "train_loss = []\n",
        "test_loss = []\n",
        "\n",
        "train_accuracy = []\n",
        "test_accuracy = []\n",
        "\n",
        "test_answers = [[[],[]], [[],[]]]\n",
        "\n",
        "def train_loop(epochs):\n",
        "  for epoch in range(epochs):\n",
        "    for phase in ['Train', 'Test']:\n",
        "      if(phase == 'Train'):\n",
        "        model.train()\n",
        "        loader = train_loader\n",
        "      else:\n",
        "        model.eval()\n",
        "        loader = test_loader  \n",
        "      epoch_loss = 0\n",
        "      epoch_acc = 0\n",
        "      for steps, data in tqdm(enumerate(loader, 0)):\n",
        "        sentence = data['sentence']\n",
        "        ids = data['ids'].to(device, dtype = torch.long)\n",
        "        mask = data['mask'].to(device, dtype = torch.long)\n",
        "        token_type_ids = data['token_type_ids'].to(device, dtype = torch.long)\n",
        "        targets = data['targets'].to(device, dtype = torch.long)\n",
        "\n",
        "        outputs = model.forward(ids, mask, token_type_ids)\n",
        "\n",
        "        loss = loss_function(outputs, targets)        \n",
        "        \n",
        "        epoch_loss += loss.detach()\n",
        "        _, max_indices = torch.max(outputs.data, dim=1)\n",
        "        bath_acc = (max_indices==targets).sum().item()/targets.size(0)\n",
        "        epoch_acc += bath_acc\n",
        "\n",
        "        if (phase == 'Train'):\n",
        "          train_loss.append(loss.detach()) \n",
        "          train_accuracy.append(bath_acc)\n",
        "          optimizer.zero_grad()\n",
        "          loss.backward()\n",
        "          optimizer.step()\n",
        "        else:\n",
        "          test_loss.append(loss.detach()) \n",
        "          test_accuracy.append(bath_acc)\n",
        "          if epoch == epochs-1:\n",
        "            for i in range(len(targets)):\n",
        "              test_answers[targets[i].item()][max_indices[i].item()].append([sentence[i], \n",
        "                                                                 targets[i].item(), \n",
        "                                                                 max_indices[i].item()])\n",
        "\n",
        "      print(f\"{phase} Loss: {epoch_loss/steps}\")\n",
        "      print(f\"{phase} Accuracy: {epoch_acc/steps}\")"
      ],
      "execution_count": null,
      "outputs": []
    },
    {
      "cell_type": "code",
      "metadata": {
        "id": "Afn7xaunJHnI",
        "colab": {
          "base_uri": "https://localhost:8080/"
        },
        "outputId": "17a34174-e9c9-43de-ba0f-2994b8b48608"
      },
      "source": [
        "EPOCHS = 4\n",
        "train_loop(EPOCHS)"
      ],
      "execution_count": null,
      "outputs": [
        {
          "output_type": "stream",
          "name": "stderr",
          "text": [
            "1313it [27:45,  1.27s/it]\n"
          ]
        },
        {
          "output_type": "stream",
          "name": "stdout",
          "text": [
            "Train Loss: 0.37769362330436707\n",
            "Train Accuracy: 0.8323170731707317\n"
          ]
        },
        {
          "output_type": "stream",
          "name": "stderr",
          "text": [
            "563it [04:25,  2.12it/s]\n"
          ]
        },
        {
          "output_type": "stream",
          "name": "stdout",
          "text": [
            "Test Loss: 0.30662792921066284\n",
            "Test Accuracy: 0.8734986654804271\n"
          ]
        },
        {
          "output_type": "stream",
          "name": "stderr",
          "text": [
            "1313it [27:44,  1.27s/it]\n"
          ]
        },
        {
          "output_type": "stream",
          "name": "stdout",
          "text": [
            "Train Loss: 0.2858887314796448\n",
            "Train Accuracy: 0.8824552210365854\n"
          ]
        },
        {
          "output_type": "stream",
          "name": "stderr",
          "text": [
            "563it [04:25,  2.12it/s]\n"
          ]
        },
        {
          "output_type": "stream",
          "name": "stdout",
          "text": [
            "Test Loss: 0.3246062994003296\n",
            "Test Accuracy: 0.8694951067615658\n"
          ]
        },
        {
          "output_type": "stream",
          "name": "stderr",
          "text": [
            "1313it [27:44,  1.27s/it]\n"
          ]
        },
        {
          "output_type": "stream",
          "name": "stdout",
          "text": [
            "Train Loss: 0.23274224996566772\n",
            "Train Accuracy: 0.9074885670731707\n"
          ]
        },
        {
          "output_type": "stream",
          "name": "stderr",
          "text": [
            "563it [04:25,  2.12it/s]\n"
          ]
        },
        {
          "output_type": "stream",
          "name": "stdout",
          "text": [
            "Test Loss: 0.31412824988365173\n",
            "Test Accuracy: 0.8787811387900356\n"
          ]
        },
        {
          "output_type": "stream",
          "name": "stderr",
          "text": [
            "1313it [27:45,  1.27s/it]\n"
          ]
        },
        {
          "output_type": "stream",
          "name": "stdout",
          "text": [
            "Train Loss: 0.18700234591960907\n",
            "Train Accuracy: 0.928734756097561\n"
          ]
        },
        {
          "output_type": "stream",
          "name": "stderr",
          "text": [
            "563it [04:26,  2.11it/s]"
          ]
        },
        {
          "output_type": "stream",
          "name": "stdout",
          "text": [
            "Test Loss: 0.3407975733280182\n",
            "Test Accuracy: 0.8727201957295374\n"
          ]
        },
        {
          "output_type": "stream",
          "name": "stderr",
          "text": [
            "\n"
          ]
        }
      ]
    },
    {
      "cell_type": "markdown",
      "metadata": {
        "id": "92-GosXZH0uq"
      },
      "source": [
        "## **Visualizing sentiment analysis**"
      ]
    },
    {
      "cell_type": "code",
      "metadata": {
        "id": "06yTOBZUTkIc",
        "colab": {
          "base_uri": "https://localhost:8080/"
        },
        "outputId": "aa93e8cd-171e-42aa-d757-e6d4a82c0ccb"
      },
      "source": [
        "print('False Negative:\\n', test_answers[1][0][0], \"\\n\", test_answers[1][0][1], \"\\n\", test_answers[1][0][2], \"\\n\",\n",
        "      '\\nFalse Positive:\\n', test_answers[0][1][0], '\\n', test_answers[0][1][1], '\\n', test_answers[0][1][2], '\\n')"
      ],
      "execution_count": null,
      "outputs": [
        {
          "output_type": "stream",
          "name": "stdout",
          "text": [
            "False Negative:\n",
            " ['Searching for a good simple RNG, came across really old Usenet postings. People were real assholes back then', 1, 0] \n",
            " [\"@_ophelia danny wasn't there just angela, craig and Robert!! Was a great day though\", 1, 0] \n",
            " [\"#mmuk09 lots of interesting conversations over the lunch break. now, where's @andyramsden ?!\", 1, 0] \n",
            " \n",
            "False Positive:\n",
            " ['@AllyAyr Although, Menthol Cigs are vile also.', 0, 1] \n",
            " ['@jacvanek are you a superpupermegaovermodel? sorry idk precisely but thank you for adding me here and on myspace ;P', 0, 1] \n",
            " ['@mojojuju , walk, stumble, curse your way outside, down the driveway, past the chicken coup, keep going, almost there. Outhouse...', 0, 1] \n",
            "\n"
          ]
        }
      ]
    },
    {
      "cell_type": "code",
      "metadata": {
        "id": "Jq_b4HMb6X4b",
        "colab": {
          "base_uri": "https://localhost:8080/",
          "height": 337
        },
        "outputId": "be1bce5d-3fd0-4725-b2d3-f736cbcfee85"
      },
      "source": [
        "import seaborn as sn\n",
        "import pandas as pd\n",
        "import matplotlib.pyplot as plt\n",
        "\n",
        "len_num = len(test_dataset)\n",
        "\n",
        "tp=len(test_answers[1][1])/len_num\n",
        "fn=len(test_answers[1][0])/len_num\n",
        "fp=len(test_answers[0][1])/len_num\n",
        "tn=len(test_answers[0][0])/len_num\n",
        "\n",
        "array_matrix = [[tp,tn], \n",
        "                [fp,fn]]\n",
        "df_cm = pd.DataFrame(array_matrix, index = ['T', 'F'],\n",
        "                  columns = ['P', 'N'])\n",
        "plt.figure(figsize = (5,5))\n",
        "sn.heatmap(df_cm, annot=True)"
      ],
      "execution_count": null,
      "outputs": [
        {
          "output_type": "execute_result",
          "data": {
            "text/plain": [
              "<matplotlib.axes._subplots.AxesSubplot at 0x7f3e513903d0>"
            ]
          },
          "metadata": {},
          "execution_count": 26
        },
        {
          "output_type": "display_data",
          "data": {
            "image/png": "[encoded data removed]",
            "text/plain": [
              "<Figure size 360x360 with 2 Axes>"
            ]
          },
          "metadata": {
            "needs_background": "light"
          }
        }
      ]
    },
    {
      "cell_type": "code",
      "metadata": {
        "id": "RuCtEWStDEdh",
        "colab": {
          "base_uri": "https://localhost:8080/",
          "height": 1000
        },
        "outputId": "9a03c366-c1c3-4d81-e157-b29fc5e6becf"
      },
      "source": [
        "plt.plot(train_loss,  color='blue')\n",
        "plt.title(\"Train Loss\")\n",
        "plt.xlabel(\"Batch\")\n",
        "plt.ylabel(\"Loss\")\n",
        "plt.show()\n",
        "\n",
        "plt.plot(test_loss,  color='orange')\n",
        "plt.title(\"Test Loss\")\n",
        "plt.xlabel(\"Batch\")\n",
        "plt.ylabel(\"Loss\")      \n",
        "plt.show()\n",
        "\n",
        "plt.plot(train_accuracy,  color='blue')\n",
        "plt.title(\"Train Accuracy\")\n",
        "plt.xlabel(\"Batch\")\n",
        "plt.ylabel(\"Accuracy\")  \n",
        "plt.show()\n",
        "\n",
        "plt.plot(test_accuracy,  color='orange')\n",
        "plt.title(\"Test Accuracy\")\n",
        "plt.xlabel(\"Batch\")\n",
        "plt.ylabel(\"Accuracy\")  \n",
        " \n",
        "plt.show()"
      ],
      "execution_count": null,
      "outputs": [
        {
          "output_type": "display_data",
          "data": {
            "image/png": "[encoded data removed]",
            "text/plain": [
              "<Figure size 432x288 with 1 Axes>"
            ]
          },
          "metadata": {
            "needs_background": "light"
          }
        },
        {
          "output_type": "display_data",
          "data": {
            "image/png": "[encoded data removed]",
            "text/plain": [
              "<Figure size 432x288 with 1 Axes>"
            ]
          },
          "metadata": {
            "needs_background": "light"
          }
        },
        {
          "output_type": "display_data",
          "data": {
            "image/png": "[encoded data removed]",
            "text/plain": [
              "<Figure size 432x288 with 1 Axes>"
            ]
          },
          "metadata": {
            "needs_background": "light"
          }
        },
        {
          "output_type": "display_data",
          "data": {
            "image/png": "[encoded data removed]",
            "text/plain": [
              "<Figure size 432x288 with 1 Axes>"
            ]
          },
          "metadata": {
            "needs_background": "light"
          }
        }
      ]
    }
  ]
}